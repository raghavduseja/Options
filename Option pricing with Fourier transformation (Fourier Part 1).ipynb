{
 "cells": [
  {
   "cell_type": "markdown",
   "id": "27b4f687",
   "metadata": {},
   "source": [
    "# Fourier Part 1: Option pricing with Fourier transformation"
   ]
  },
  {
   "cell_type": "markdown",
   "id": "e664aaf1",
   "metadata": {},
   "source": [
    "<font color =\"#4169e1\"> Using Fourier tranform to price a Vanilla call option </font>"
   ]
  },
  {
   "cell_type": "markdown",
   "id": "cdd629bd",
   "metadata": {},
   "source": [
    "## <font color=\"#caa520\">Basics</font>"
   ]
  },
  {
   "cell_type": "markdown",
   "id": "27ace629",
   "metadata": {},
   "source": [
    "### Fourier transform"
   ]
  },
  {
   "cell_type": "markdown",
   "id": "e0d68d9a",
   "metadata": {},
   "source": [
    "Suppose f(x) is a function such as:\n",
    "\n",
    "$$ \\int_{\\mathbb{R}^n\t} | f(x)| dx < \\infty  $$"
   ]
  },
  {
   "cell_type": "markdown",
   "id": "55ef9214",
   "metadata": {},
   "source": [
    "The Fourier transform of this function can be written as:\n",
    "$$ f(\\omega) := \\int_{\\mathbb{R}^n\t}  f(x) e^{i{\\omega}x} dx  $$ "
   ]
  },
  {
   "cell_type": "markdown",
   "id": "adc72e64",
   "metadata": {},
   "source": [
    "The $ \\mathbb{R}^n$ in the above Fourier transform equation can be replaced with $-\\infty $ and $\\infty $ if we limit ourselves to one-dimensional cases.\n",
    "\n",
    "$$ f_X(\\omega) := \\int_{-\\infty}^{\\infty}  f(x) e^{i{\\omega}x} dx  $$ "
   ]
  },
  {
   "cell_type": "markdown",
   "id": "c7678ace",
   "metadata": {},
   "source": [
    "### Inverse Fourier transform"
   ]
  },
  {
   "cell_type": "markdown",
   "id": "32a57469",
   "metadata": {},
   "source": [
    "Given integribility and continuity, we can get back the original function from the Fourier transform as follows:"
   ]
  },
  {
   "cell_type": "markdown",
   "id": "1e8965ee",
   "metadata": {},
   "source": [
    "$$ f(x) = \\frac{1}{2 \\pi} \\int_{-\\infty}^{\\infty}  f(\\omega) e^{-i{\\omega}x} d\\omega  $$ "
   ]
  },
  {
   "cell_type": "markdown",
   "id": "bb7d8cd7",
   "metadata": {},
   "source": [
    "## <font color=\"#caa520\">Characterstic functions</font>"
   ]
  },
  {
   "cell_type": "markdown",
   "id": "eb50eef1",
   "metadata": {},
   "source": [
    "If X has a pdf (probability density function), then its characterstic function is given by the Fourier transform of the pdf. If two random variables have the same characterstic functions, then they have the same distribution."
   ]
  },
  {
   "cell_type": "markdown",
   "id": "e8ad28f1",
   "metadata": {},
   "source": [
    "$$ \\varphi_{X}(t) := \\mathbb{E}[e^{itX}] $$"
   ]
  },
  {
   "cell_type": "markdown",
   "id": "e5610c73",
   "metadata": {},
   "source": [
    "If $f_X(x) $ is the pdf, we can perform a Fourier transform on this pdf as follows:"
   ]
  },
  {
   "cell_type": "markdown",
   "id": "a9a10eab",
   "metadata": {},
   "source": [
    "$$ f_X(\\omega) := \\int_{-\\infty}^{\\infty}  f(x) e^{i{\\omega}x} dx  $$ \n",
    "\n",
    "Hence, $$ f_X(\\omega) := \\mathbb{E}[e^{i{\\omega}X}]  $$ \n",
    "\n",
    "$$ f_X(\\omega) := \\varphi_{X}(\\omega)  $$"
   ]
  },
  {
   "cell_type": "markdown",
   "id": "04d0867f",
   "metadata": {},
   "source": [
    "Also, we can go back to the pdf from the characterstic function using inverse Fourier transform, assumption integribility and continuity conditions are met"
   ]
  },
  {
   "cell_type": "markdown",
   "id": "db803b7c",
   "metadata": {},
   "source": [
    "$$ f(x) = \\frac{1}{2 \\pi} \\int_{-\\infty}^{\\infty}  \\varphi_{X}(\\omega)  e^{-i{\\omega}x} d\\omega  $$ "
   ]
  },
  {
   "cell_type": "markdown",
   "id": "16bc8a80",
   "metadata": {},
   "source": [
    "### Calculating probabilities from characterstic functions"
   ]
  },
  {
   "cell_type": "markdown",
   "id": "efcb5e3c",
   "metadata": {},
   "source": [
    "We use the following theorem:"
   ]
  },
  {
   "cell_type": "markdown",
   "id": "1571857c",
   "metadata": {},
   "source": [
    "$$ \\mathbb{P}[X<= x] = \\frac{1}{2} - \\frac{1}{\\pi} \\int_{0}^{\\infty} \\frac{Im[e^{itX}{\\varphi}_X(t)]}{t} dt $$"
   ]
  },
  {
   "cell_type": "markdown",
   "id": "4a895dd9",
   "metadata": {},
   "source": [
    "## <font color=\"#caa520\">Call pricing using Fourier </font>"
   ]
  },
  {
   "cell_type": "markdown",
   "id": "c9e1f5fe",
   "metadata": {},
   "source": [
    "Without going into the derivation, we can say that the price of a call option under Fourier transforms can be given by the following formula "
   ]
  },
  {
   "cell_type": "markdown",
   "id": "6897ca8c",
   "metadata": {},
   "source": [
    "$$ c = S_0(\\frac{1}{2} + \\frac{1}{\\pi} \\int_0^{\\infty}\\frac{Im[e^{-it \\ln K}\\varphi_{M_2}(t)]}{t}dt) -e^{-rT}K(\\frac{1}{2} + \\frac{1}{\\pi} \\int_0^{\\infty}\\frac{Im[e^{-it \\ln K}\\varphi_{M_1}(t)]}{t}dt) $$"
   ]
  },
  {
   "cell_type": "markdown",
   "id": "bd80d365",
   "metadata": {},
   "source": [
    "where\n",
    "\n",
    "$$ \\varphi_{M_1}(t) = e^{(it(\\ln S_0 + (r-\\frac{\\sigma^2}{2})T)-\\frac{1}{2} \\sigma^2 T t^2)}$$\n",
    "$$\\varphi_{M_2}(t) = e^{it \\sigma^2 T} \\varphi_{M_1}(t) $$"
   ]
  },
  {
   "cell_type": "markdown",
   "id": "28913520",
   "metadata": {},
   "source": [
    "We have two integrals in the above equation. To evaluate them, we will break them down using the following method\n",
    "\n",
    "$$\\int_0^{\\infty}\\frac{Im[e^{-it \\ln K}\\varphi_{M_2}(t)]}{t}dt \\approx \\int_0^{t_{max}}\\frac{Im[e^{-it \\ln K}\\varphi_{M_2}(t)]}{t}dt \\approx \\Sigma_{n=1}^N \\frac{Im[e^{-it_n \\ln K}\\varphi_{M_2}(t)]}{t_n} \\Delta t$$"
   ]
  },
  {
   "cell_type": "markdown",
   "id": "b0510080",
   "metadata": {},
   "source": [
    "We need to chose $t_{max}$ and N to find $\\Delta t = \\frac{t_{max}}{N}$"
   ]
  },
  {
   "cell_type": "markdown",
   "id": "2983cef8",
   "metadata": {},
   "source": [
    "## <font color=\"#caa520\">Application in Python </font>"
   ]
  },
  {
   "cell_type": "markdown",
   "id": "199468c0",
   "metadata": {},
   "source": [
    "### a) Analytical pricing using Black-Scholes"
   ]
  },
  {
   "cell_type": "code",
   "execution_count": 20,
   "id": "18df6b1f",
   "metadata": {},
   "outputs": [],
   "source": [
    "import numpy as np\n",
    "from scipy.stats import norm\n",
    "import matplotlib.pyplot as plt\n",
    "\n",
    "# share \n",
    "r = 0.02\n",
    "S0 = 100\n",
    "sigma = 0.20\n",
    "\n",
    "# call option \n",
    "K = 110\n",
    "T = 1\n",
    "k_log = np.log(K)"
   ]
  },
  {
   "cell_type": "code",
   "execution_count": 21,
   "id": "1388b9bc",
   "metadata": {},
   "outputs": [
    {
     "data": {
      "text/plain": [
       "4.94386695723049"
      ]
     },
     "execution_count": 21,
     "metadata": {},
     "output_type": "execute_result"
    }
   ],
   "source": [
    "#Analytical pricing using the Black-Scholes option pricing model\n",
    "d1_stock = (np.log(S0/K) + (r + sigma**2/2)*T)/(sigma*np.sqrt(T))\n",
    "d2_stock = d1_stock - sigma*np.sqrt(T)\n",
    "\n",
    "analytic_callprice = S0*norm.cdf(d1_stock) - K*np.exp(-r*T)*norm.cdf(d2_stock) \n",
    "analytic_callprice"
   ]
  },
  {
   "cell_type": "markdown",
   "id": "6c7b0a41",
   "metadata": {},
   "source": [
    "### b) Fourier pricing"
   ]
  },
  {
   "cell_type": "code",
   "execution_count": 22,
   "id": "c4163244",
   "metadata": {},
   "outputs": [],
   "source": [
    "# Characteristic functions where 1j is used to create the imaginary number i\n",
    "def c_M1(t):\n",
    "    return np.exp(1j*t*(np.log(S0)+(r-sigma**2/2)*T) - (sigma**2)*T*(t**2)/2)\n",
    "\n",
    "def c_M2(t):\n",
    "    return np.exp(1j*t*sigma**2*T)*c_M1(t)"
   ]
  },
  {
   "cell_type": "code",
   "execution_count": 23,
   "id": "b00129f8",
   "metadata": {},
   "outputs": [],
   "source": [
    "# Choosing t_max and N\n",
    "t_max = 20\n",
    "N = 100\n",
    "\n",
    "# Calculating delta and constructing t_n\n",
    "delta_t = t_max/N\n",
    "from_1_to_N = np.linspace(1, N, N)\n",
    "t_n = (from_1_to_N - 1/2)*delta_t"
   ]
  },
  {
   "cell_type": "code",
   "execution_count": 24,
   "id": "8aad3c26",
   "metadata": {},
   "outputs": [],
   "source": [
    "# Approximate integral estimates\n",
    "first_integral = sum((((np.exp(-1j*t_n*k_log)*c_M2(t_n)).imag)/t_n)*delta_t)\n",
    "second_integral = sum((((np.exp(-1j*t_n*k_log)*c_M1(t_n)).imag)/t_n)*delta_t)"
   ]
  },
  {
   "cell_type": "code",
   "execution_count": 25,
   "id": "d2edf56a",
   "metadata": {},
   "outputs": [
    {
     "data": {
      "text/plain": [
       "4.943834589108832"
      ]
     },
     "execution_count": 25,
     "metadata": {},
     "output_type": "execute_result"
    }
   ],
   "source": [
    "# Fourier Call Value\n",
    "fourier_call_val = S0*(1/2 + first_integral/np.pi) - np.exp(-r*T)*K*(1/2 + second_integral/np.pi)\n",
    "fourier_call_val"
   ]
  },
  {
   "cell_type": "markdown",
   "id": "4add70db",
   "metadata": {},
   "source": [
    "We can see that we get the same price for the call option using both methods."
   ]
  },
  {
   "cell_type": "markdown",
   "id": "46d5bfe5",
   "metadata": {},
   "source": [
    "## <font color=\"#caa520\">References </font>"
   ]
  },
  {
   "cell_type": "markdown",
   "id": "ffd2a84a",
   "metadata": {},
   "source": [
    "* Yves Hilpisch, \"Chapter 6: Derivatives Analytics with Python: Data Analysis, Models, Simulation, Calibration and Hedging\"\n",
    "* Fourier methods, Python codes: https://github.com/yhilpisch/dawp/tree/master/python36/06_fou\n",
    "* WQU notes, Computational Finance"
   ]
  }
 ],
 "metadata": {
  "kernelspec": {
   "display_name": "Python 3 (ipykernel)",
   "language": "python",
   "name": "python3"
  },
  "language_info": {
   "codemirror_mode": {
    "name": "ipython",
    "version": 3
   },
   "file_extension": ".py",
   "mimetype": "text/x-python",
   "name": "python",
   "nbconvert_exporter": "python",
   "pygments_lexer": "ipython3",
   "version": "3.8.12"
  }
 },
 "nbformat": 4,
 "nbformat_minor": 5
}
