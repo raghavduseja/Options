{
 "cells": [
  {
   "cell_type": "markdown",
   "id": "1ed81d6d",
   "metadata": {},
   "source": [
    "# Option pricing with CVA\n",
    "<font color =\"#4169e1\">Pricing an option with a risky counterparty under the framework of the Merton Credit-risk model </font>"
   ]
  },
  {
   "cell_type": "markdown",
   "id": "2b36ee23",
   "metadata": {},
   "source": [
    "## <font color ='#caa520'> Merton model </font>"
   ]
  },
  {
   "cell_type": "markdown",
   "id": "8b31ec5a",
   "metadata": {},
   "source": [
    "The Merton model in Credit Risk is a structural Credit Risk model where the **Value of equity (S)** is modelled as a **call option on the firm's assets**."
   ]
  },
  {
   "cell_type": "markdown",
   "id": "87e8102c",
   "metadata": {},
   "source": [
    "\n",
    "<center><b><font color =\"#4169e1\">Value of the firm (V) </font>= Value of the debt (D) + Value of the equity (S)</b> <br>\n",
    "    <b><font color =\"#4169e1\">Value of equity (S) </font> = Value of firm’s assets (V) – Value of risky debt (D) </b></center> "
   ]
  },
  {
   "cell_type": "markdown",
   "id": "36a9d721",
   "metadata": {},
   "source": [
    "Also, risky debt is modelled as the difference of risk-free debt and a put option on the firm's assets:\n",
    "\n",
    "$$ De^{-rT} - P(V_0, r \\sigma, D, T) $$ "
   ]
  },
  {
   "cell_type": "markdown",
   "id": "fcb28366",
   "metadata": {},
   "source": [
    "The call and put options are priced using the usual analytical Black-Scholes formula and the all its  assumptions:\n",
    "\n",
    "$$ Put = V_0 \\Phi(-d_1) + (1 - \\Phi(-d_2))De^{-rT} \\\\\n",
    "d_1 = \\frac{ln(\\frac{V_0}{D}) + (r + \\frac{\\sigma^2}{2})T}{\\sigma \\sqrt{T}} \\\\\n",
    "d_2 = d_1 - \\sigma \\sqrt{T} $$"
   ]
  },
  {
   "cell_type": "markdown",
   "id": "1bf34703",
   "metadata": {},
   "source": [
    "### The Merton Model’s assumptions are:\n",
    "- Simple capital structure: one class of equity + one zero-coupon bond\n",
    "- Value of firm can be observed\n",
    "- Value follows a lognormal diffusion process\n",
    "- Default only occurs at maturity\n",
    "- Riskless interest rates are constant\n",
    "- Debt is not renegotiated\n",
    "- No liquidity adjustment"
   ]
  },
  {
   "cell_type": "markdown",
   "id": "5c2a6cdd",
   "metadata": {},
   "source": [
    "### Steps in Merton Model\n",
    "1) Use the Black-Scholes-Merton option-pricing model (BSM OPM) to estimate the price (value) of the firm's equity <br>\n",
    "2) Using the firm's equity value to assume the firm's asset value and asset volatility, estimate the probability of default (PD) under an assumption that the firm's asset price will follow a lognormal distribution"
   ]
  },
  {
   "cell_type": "markdown",
   "id": "73b40fc0",
   "metadata": {},
   "source": [
    "### From risk neutral to real world: PD under the Merton model\n",
    "The default probability using the Merton approach and applying the Black-Scholes-Merton formula\n",
    "is as follows:\n",
    "\n",
    "$$ PD = \\Phi(-d_2)$$ \n",
    "\n",
    "Except a key point is that the drift used in finding the default probability is **NOT** the risk-free rate as in the Black-Scholes model for risk-neutral pricing. For finding the default probability, a real world drift μ is used in the formula.\n",
    "- another important point is that this last step of finding N(-d2) to find the default probabilty implied the assumption of normal returns (Advanced models such as KMV do not utilise this assumption)"
   ]
  },
  {
   "cell_type": "markdown",
   "id": "bf836e93",
   "metadata": {},
   "source": [
    "## <font color ='caa520'> Credit Value Adjustment (CVA) </font>"
   ]
  },
  {
   "cell_type": "markdown",
   "id": "d66d7ff3",
   "metadata": {},
   "source": [
    "CVA is the expected value or price of counterparty credit risk. Therefore, <b>RiskyValue</b> = Analytical Price - CVA. \n"
   ]
  },
  {
   "cell_type": "markdown",
   "id": "28297658",
   "metadata": {},
   "source": [
    "$$CVA = \\mathbb{E}^{Q}[e^{-r\\tau}(1-\\delta) V(\\tau) 𝟙_{\\tau\\leq\tT}] $$\n",
    "$$CVA = (1-\\delta)  \\sum_{j=1}^{m} EE(t_j)  q(t_{j-1}, t_j)   $$"
   ]
  },
  {
   "cell_type": "markdown",
   "id": "ee7badf3",
   "metadata": {},
   "source": [
    "where\n",
    "* **Loss given default (LGD)**: LGD = (1-recovery rate)\n",
    "* **Discount factors**: B(t[j]) gives the risk-free discount factor at time t[j].\n",
    "* **EE (Expected exposure)**: EE(t[j]) is the expected exposure (EE) for the relevant dates in the future given by t[j] for j = 0, n>m.<br>\n",
    "* **Default Probability**: The expression q(t[j-1], t[j]) gives the marginal default probability in the interval between date t[j+1] and t[j]."
   ]
  },
  {
   "cell_type": "markdown",
   "id": "d0d7ba6b",
   "metadata": {},
   "source": [
    "### Credit exposures"
   ]
  },
  {
   "cell_type": "markdown",
   "id": "27df9a43",
   "metadata": {},
   "source": [
    "EPE is used in the CVA spread formula, but there are also other types of exposures. Its is important to note that counterparty risk arises only when you have +ve exposure to the counterparty."
   ]
  },
  {
   "cell_type": "markdown",
   "id": "7f1fd232",
   "metadata": {},
   "source": [
    "- **Expected mark to market (MtM)** is the expected value of a transaction at a given point in the future.\n",
    "\n",
    "- **Expected exposure (EE)** is the amount that is expected to be lost if there is positive MtM and the counterparty defaults. Expected exposure is larger than expected MtM because EE considers both positive and negative MtM values. \n",
    "\n",
    "- **Potential future exposure (PFE)** is an estimate of MtM value at a specific point in the future. It is usually based on a high confidence level, taking into account the worst-case scenario.\n",
    "\n",
    "- **Expected positive exposure (EPE)** is the average Expected Exposure (EE) through time. Expected positive exposure is a useful single amount to quantify exposure."
   ]
  },
  {
   "cell_type": "markdown",
   "id": "ae5b5644",
   "metadata": {},
   "source": [
    "## <font color ='gold'> Calculating CVA for an option</font>"
   ]
  },
  {
   "cell_type": "markdown",
   "id": "9c6c20bc",
   "metadata": {},
   "source": [
    "We will now use the EPE (average EE through time) to price a risky option under the Black-Scholes assumptions including the assumption that the firm follows GBM:\n",
    "$$ dV_t = rV_tdt + \\sigma V_t dW_t $$ \n",
    "\n",
    "Remember, RiskyValue = Analytical Price - CVA. We will calculate the analytical price using the regular Black-Scholes formula and use all the assumptions of the Merton model for calculating the CVA."
   ]
  },
  {
   "cell_type": "code",
   "execution_count": 2,
   "id": "69d493dc",
   "metadata": {},
   "outputs": [],
   "source": [
    "import numpy as np\n",
    "from scipy.stats import norm\n",
    "import matplotlib.pyplot as plt\n",
    "import random as r"
   ]
  },
  {
   "cell_type": "code",
   "execution_count": 3,
   "id": "f60e7b76",
   "metadata": {},
   "outputs": [],
   "source": [
    "risk_free = 0.05\n",
    "\n",
    "#Stock\n",
    "S_0 = 100\n",
    "sigma = 0.25\n",
    "\n",
    "#Call Option \n",
    "strike = 110\n",
    "T = 1\n",
    "\n",
    "#Firm \n",
    "V_0 = 200\n",
    "sigma_firm = 0.25\n",
    "debt = 180\n",
    "recovery_rate = 0.1"
   ]
  },
  {
   "cell_type": "markdown",
   "id": "033d2d37",
   "metadata": {},
   "source": [
    "We are defining the terminal value based on the assumption of normality. This terminal value function will be used both for the stock as well as the counterparty firm. The variable **Z** is a multivariate normal sample."
   ]
  },
  {
   "cell_type": "code",
   "execution_count": 4,
   "id": "368ebeb0",
   "metadata": {},
   "outputs": [],
   "source": [
    "#Generates the terminal share price given Z\n",
    "def terminal_value(S_0, risk_free_rate, sigma, Z, T):\n",
    "    return S_0*np.exp((risk_free_rate-sigma**2/2)*T+sigma*np.sqrt(T)*Z)\n",
    "    \n",
    "#Evaluating the call price in Monte Carlo Estimation\n",
    "def call_payoff(S_T, K):\n",
    "    return np.maximum(S_T-K, 0)"
   ]
  },
  {
   "cell_type": "markdown",
   "id": "df074801",
   "metadata": {},
   "source": [
    "Setting a seed value so that the code is replicable"
   ]
  },
  {
   "cell_type": "code",
   "execution_count": 5,
   "id": "c064b4a8",
   "metadata": {},
   "outputs": [],
   "source": [
    "np.random.seed(0)\n",
    "\n",
    "corr_tested = np.linspace(-1,1,21)\n",
    "cva_estimates = [None]*len(corr_tested)\n",
    "cva_std = [None]*len(corr_tested)"
   ]
  },
  {
   "cell_type": "markdown",
   "id": "0c3cc2ef",
   "metadata": {},
   "source": [
    "np.linspace returns evenly spaced numbers over a specified interval. Here the interval is from -1 to 1 for correlation, and we are drawing 21 samples."
   ]
  },
  {
   "cell_type": "code",
   "execution_count": 6,
   "id": "c38fc435",
   "metadata": {},
   "outputs": [
    {
     "data": {
      "text/plain": [
       "array([-1. , -0.9, -0.8, -0.7, -0.6, -0.5, -0.4, -0.3, -0.2, -0.1,  0. ,\n",
       "        0.1,  0.2,  0.3,  0.4,  0.5,  0.6,  0.7,  0.8,  0.9,  1. ])"
      ]
     },
     "execution_count": 6,
     "metadata": {},
     "output_type": "execute_result"
    }
   ],
   "source": [
    "corr_tested"
   ]
  },
  {
   "cell_type": "markdown",
   "id": "0ae304aa",
   "metadata": {},
   "source": [
    "For each correlation we will produce a CVA estimate and a CVA standard deviation as follows:\n",
    "* We need to account for two conditions, when correlation is +1/-1 and when correlation is between the two values\n",
    "* We use **norm.rvs(size = np.array([2,50000]))** which creates a matrix of two columns with values from 0 to 50000\n",
    "* We use the terminal_value function defined above to create an array of stock values by substituting **Z** with **corr_norm_matrix[0,]**\n",
    "* Similarly we create terminal firm values by substituting **Z** with **corr_norm_matrix[1,]**\n"
   ]
  },
  {
   "cell_type": "code",
   "execution_count": 7,
   "id": "42925c28",
   "metadata": {},
   "outputs": [],
   "source": [
    "for i in range(len(corr_tested)):\n",
    "    \n",
    "    correlation = corr_tested[i]\n",
    "    if (correlation == 1 or correlation == -1):\n",
    "        norm_vec_0 = norm.rvs(size = 50000)\n",
    "        norm_vec_1 = correlation*norm_vec_0\n",
    "        corr_norm_matrix = np.array([norm_vec_0, norm_vec_1])\n",
    "        \n",
    "    else:\n",
    "        corr_matrix = np.array([[1, correlation], [correlation,1]])\n",
    "        norm_matrix = norm.rvs(size = np.array([2,50000]))\n",
    "        corr_norm_matrix = np.matmul(np.linalg.cholesky(corr_matrix), norm_matrix)\n",
    "     \n",
    "    # create an array of stock values using the first row of the matrix of correlated standard normals. \n",
    "    term_stock_val = terminal_value(S_0, risk_free, sigma, corr_norm_matrix[0,], T)\n",
    "    \n",
    "    # create an array of call values for the given stock values.\n",
    "    call_val = call_payoff(term_stock_val, strike)\n",
    "    \n",
    "    # create an array of terminal firm values.\n",
    "    term_firm_val = terminal_value(V_0, risk_free, sigma_firm, corr_norm_matrix[1,], T)\n",
    "    \n",
    "    # Using the call values in the formula\n",
    "    amount_lost = np.exp(-risk_free*T)*(1-recovery_rate)*(term_firm_val < debt)*call_val\n",
    "    cva_estimates[i] = np.mean(amount_lost)\n",
    "    cva_std[i] = np.std(amount_lost)/np.sqrt(50000)"
   ]
  },
  {
   "cell_type": "markdown",
   "id": "76fa32b5",
   "metadata": {},
   "source": [
    "The first **if** loop says that if the correlation is either -1 or +1, we create a **corr_norm_matrix** by multiplying a column of 1 to 50,000 which is **norm_vector_0** with another matrix which is a **scalar** multiplied with the a column of 1 to 50,000\n",
    "\n",
    "The **else** condition is that if the correlation is between -1 and +1, we multiply the defined **corr_matrix** with the **norm_matrix**"
   ]
  },
  {
   "cell_type": "code",
   "execution_count": 8,
   "id": "a6db848d",
   "metadata": {},
   "outputs": [],
   "source": [
    "# Calculating probability of default\n",
    "d_1 = (np.log(V_0/debt) + (risk_free + sigma_firm**2/2)*(T))/(sigma_firm*np.sqrt(T))\n",
    "d_2 = d_1 - sigma_firm*np.sqrt(T)\n",
    "\n",
    "default_prob = norm.cdf(-d_2)"
   ]
  },
  {
   "cell_type": "markdown",
   "id": "454506af",
   "metadata": {},
   "source": [
    "Again, it is important to note that this is **not** the risk neutral world anymore (when we are finding the default probability). The drift used in finding the default probability is NOT the risk-free rate as in the Black-Scholes model. For finding the default probability, a real world drift μ (sigma) is used in the formula."
   ]
  },
  {
   "cell_type": "code",
   "execution_count": 9,
   "id": "f4adfbed",
   "metadata": {},
   "outputs": [],
   "source": [
    "#Analytical pricing using the Black-Scholes option pricing model\n",
    "d_1_stock = (np.log(V_0/debt) + (risk_free + sigma**2/2)*(T))/(sigma_firm*np.sqrt(T))\n",
    "d_2_stock = d_1_stock - sigma*np.sqrt(T)\n",
    "\n",
    "analytic_callprice = S_0*norm.cdf(d_1_stock) - strike*np.exp(-risk_free*(T))*norm.cdf(d_2_stock)"
   ]
  },
  {
   "cell_type": "code",
   "execution_count": 11,
   "id": "dfbb6397",
   "metadata": {},
   "outputs": [],
   "source": [
    "uncorr_cva = (1-recovery_rate)*default_prob*analytic_callprice"
   ]
  },
  {
   "cell_type": "markdown",
   "id": "757201a4",
   "metadata": {},
   "source": [
    "* **uncorr_cva** is the the static CVA which doesn't consider the correlation of the firm values. It uses the Black-Scholes price for a call option.\n",
    "* **cva_estimates** are the CVA estimates which change with the correlation between the firm and the portfolio."
   ]
  },
  {
   "cell_type": "code",
   "execution_count": 14,
   "id": "7c752e0f",
   "metadata": {},
   "outputs": [
    {
     "data": {
      "image/png": "[encoded data removed]",
      "text/plain": [
       "<Figure size 432x288 with 1 Axes>"
      ]
     },
     "metadata": {
      "needs_background": "light"
     },
     "output_type": "display_data"
    }
   ],
   "source": [
    "plt.plot(corr_tested, [uncorr_cva]*21)\n",
    "plt.plot(corr_tested, cva_estimates, \".\")\n",
    "plt.plot(corr_tested, cva_estimates + 3*np.array(cva_std), \"r\")\n",
    "plt.plot(corr_tested, cva_estimates - 3*np.array(cva_std), \"r\")\n",
    "plt.xlabel(\"Correlation\")\n",
    "plt.ylabel(\"CVA\")\n",
    "plt.show()"
   ]
  },
  {
   "cell_type": "markdown",
   "id": "a9f7e0e0",
   "metadata": {},
   "source": [
    "We can see that CVA is highest when the correlation is the lowest."
   ]
  },
  {
   "cell_type": "markdown",
   "id": "8450cb41",
   "metadata": {},
   "source": [
    "## <font color ='gold'> References</font>\n",
    "\n",
    "* Merton model, a summary of issues (https://forum.bionicturtle.com/threads/merton-model-a-summary-of-the-issues.5646/)\n",
    "* Arnaud de Servigny, \"Measuring and Managing Credit Risk\"\n",
    "* FRM Part 2 coursebook, Kaplan Schweser, \"Credit Risk Measurement and Management\"\n",
    "* WQU notes, Computational Finance "
   ]
  }
 ],
 "metadata": {
  "kernelspec": {
   "display_name": "Python 3 (ipykernel)",
   "language": "python",
   "name": "python3"
  },
  "language_info": {
   "codemirror_mode": {
    "name": "ipython",
    "version": 3
   },
   "file_extension": ".py",
   "mimetype": "text/x-python",
   "name": "python",
   "nbconvert_exporter": "python",
   "pygments_lexer": "ipython3",
   "version": "3.8.12"
  }
 },
 "nbformat": 4,
 "nbformat_minor": 5
}
