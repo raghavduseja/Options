{
 "cells": [
  {
   "cell_type": "code",
   "execution_count": 1,
   "id": "elementary-affect",
   "metadata": {},
   "outputs": [],
   "source": [
    "import numpy as np\n",
    "import pandas as pd\n",
    "import matplotlib.pyplot as plt \n",
    "\n",
    "import yfinance as yf\n",
    "import requests\n",
    "from bs4 import BeautifulSoup\n",
    "\n",
    "from arch import arch_model\n",
    "\n",
    "import statistics as stat\n",
    "import statsmodels.api as sm\n",
    "from statsmodels.tsa.arima.model import ARIMA\n",
    "from statsmodels.tsa.stattools import adfuller\n",
    "from statsmodels.graphics.tsaplots import plot_acf\n",
    "from statsmodels.graphics.tsaplots import plot_pacf"
   ]
  },
  {
   "cell_type": "code",
   "execution_count": 2,
   "id": "entire-karma",
   "metadata": {
    "scrolled": false
   },
   "outputs": [
    {
     "name": "stdout",
     "output_type": "stream",
     "text": [
      "[*********************100%***********************]  3 of 3 completed\n"
     ]
    },
    {
     "data": {
      "text/html": [
       "<div>\n",
       "<style scoped>\n",
       "    .dataframe tbody tr th:only-of-type {\n",
       "        vertical-align: middle;\n",
       "    }\n",
       "\n",
       "    .dataframe tbody tr th {\n",
       "        vertical-align: top;\n",
       "    }\n",
       "\n",
       "    .dataframe thead th {\n",
       "        text-align: right;\n",
       "    }\n",
       "</style>\n",
       "<table border=\"1\" class=\"dataframe\">\n",
       "  <thead>\n",
       "    <tr style=\"text-align: right;\">\n",
       "      <th></th>\n",
       "      <th>BTC_Adj_Close</th>\n",
       "      <th>GLD_Adj_Close</th>\n",
       "      <th>VEU_Adj_Close</th>\n",
       "    </tr>\n",
       "    <tr>\n",
       "      <th>Date</th>\n",
       "      <th></th>\n",
       "      <th></th>\n",
       "      <th></th>\n",
       "    </tr>\n",
       "  </thead>\n",
       "  <tbody>\n",
       "    <tr>\n",
       "      <th>2019-12-31</th>\n",
       "      <td>7193.599121</td>\n",
       "      <td>142.899994</td>\n",
       "      <td>51.667725</td>\n",
       "    </tr>\n",
       "    <tr>\n",
       "      <th>2020-01-02</th>\n",
       "      <td>6985.470215</td>\n",
       "      <td>143.949997</td>\n",
       "      <td>52.330994</td>\n",
       "    </tr>\n",
       "    <tr>\n",
       "      <th>2020-01-03</th>\n",
       "      <td>7344.884277</td>\n",
       "      <td>145.860001</td>\n",
       "      <td>51.667725</td>\n",
       "    </tr>\n",
       "    <tr>\n",
       "      <th>2020-01-06</th>\n",
       "      <td>7769.219238</td>\n",
       "      <td>147.389999</td>\n",
       "      <td>51.763847</td>\n",
       "    </tr>\n",
       "    <tr>\n",
       "      <th>2020-01-07</th>\n",
       "      <td>8163.692383</td>\n",
       "      <td>147.970001</td>\n",
       "      <td>51.686951</td>\n",
       "    </tr>\n",
       "  </tbody>\n",
       "</table>\n",
       "</div>"
      ],
      "text/plain": [
       "            BTC_Adj_Close  GLD_Adj_Close  VEU_Adj_Close\n",
       "Date                                                   \n",
       "2019-12-31    7193.599121     142.899994      51.667725\n",
       "2020-01-02    6985.470215     143.949997      52.330994\n",
       "2020-01-03    7344.884277     145.860001      51.667725\n",
       "2020-01-06    7769.219238     147.389999      51.763847\n",
       "2020-01-07    8163.692383     147.970001      51.686951"
      ]
     },
     "execution_count": 2,
     "metadata": {},
     "output_type": "execute_result"
    }
   ],
   "source": [
    "dfData = yf.download(\"GLD VEU BTC-USD\", start = \"2020-01-01\", end = \"2020-12-31\")\n",
    "dfData = dfData.dropna()\n",
    "dfData = dfData['Adj Close'][['BTC-USD', 'GLD', 'VEU']]\n",
    "dfData.columns = ['BTC_Adj_Close', 'GLD_Adj_Close', 'VEU_Adj_Close']\n",
    "#dfData.reset_index(inplace=True)\n",
    "#dfData.set_index('Date', inplace=True)\n",
    "dfData.head()"
   ]
  },
  {
   "cell_type": "code",
   "execution_count": 3,
   "id": "fewer-event",
   "metadata": {},
   "outputs": [
    {
     "data": {
      "text/html": [
       "<div>\n",
       "<style scoped>\n",
       "    .dataframe tbody tr th:only-of-type {\n",
       "        vertical-align: middle;\n",
       "    }\n",
       "\n",
       "    .dataframe tbody tr th {\n",
       "        vertical-align: top;\n",
       "    }\n",
       "\n",
       "    .dataframe thead th {\n",
       "        text-align: right;\n",
       "    }\n",
       "</style>\n",
       "<table border=\"1\" class=\"dataframe\">\n",
       "  <thead>\n",
       "    <tr style=\"text-align: right;\">\n",
       "      <th></th>\n",
       "      <th>BTC_Adj_Close</th>\n",
       "      <th>GLD_Adj_Close</th>\n",
       "      <th>VEU_Adj_Close</th>\n",
       "      <th>GLD_Daily_Return</th>\n",
       "      <th>VEU_Daily_Return</th>\n",
       "      <th>BTC_Daily_Return</th>\n",
       "    </tr>\n",
       "    <tr>\n",
       "      <th>Date</th>\n",
       "      <th></th>\n",
       "      <th></th>\n",
       "      <th></th>\n",
       "      <th></th>\n",
       "      <th></th>\n",
       "      <th></th>\n",
       "    </tr>\n",
       "  </thead>\n",
       "  <tbody>\n",
       "    <tr>\n",
       "      <th>2020-04-01</th>\n",
       "      <td>6606.776367</td>\n",
       "      <td>149.449997</td>\n",
       "      <td>37.880417</td>\n",
       "      <td>0.009456</td>\n",
       "      <td>-0.042418</td>\n",
       "      <td>0.026113</td>\n",
       "    </tr>\n",
       "    <tr>\n",
       "      <th>2020-04-02</th>\n",
       "      <td>6793.624512</td>\n",
       "      <td>151.899994</td>\n",
       "      <td>38.729061</td>\n",
       "      <td>0.016393</td>\n",
       "      <td>0.022403</td>\n",
       "      <td>0.028281</td>\n",
       "    </tr>\n",
       "    <tr>\n",
       "      <th>2020-04-03</th>\n",
       "      <td>6733.387207</td>\n",
       "      <td>152.649994</td>\n",
       "      <td>37.967209</td>\n",
       "      <td>0.004937</td>\n",
       "      <td>-0.019671</td>\n",
       "      <td>-0.008867</td>\n",
       "    </tr>\n",
       "    <tr>\n",
       "      <th>2020-04-06</th>\n",
       "      <td>7271.781250</td>\n",
       "      <td>156.880005</td>\n",
       "      <td>39.944164</td>\n",
       "      <td>0.027711</td>\n",
       "      <td>0.052070</td>\n",
       "      <td>0.079959</td>\n",
       "    </tr>\n",
       "    <tr>\n",
       "      <th>2020-04-07</th>\n",
       "      <td>7176.414551</td>\n",
       "      <td>156.039993</td>\n",
       "      <td>40.108112</td>\n",
       "      <td>-0.005354</td>\n",
       "      <td>0.004104</td>\n",
       "      <td>-0.013115</td>\n",
       "    </tr>\n",
       "  </tbody>\n",
       "</table>\n",
       "</div>"
      ],
      "text/plain": [
       "            BTC_Adj_Close  GLD_Adj_Close  VEU_Adj_Close  GLD_Daily_Return  \\\n",
       "Date                                                                        \n",
       "2020-04-01    6606.776367     149.449997      37.880417          0.009456   \n",
       "2020-04-02    6793.624512     151.899994      38.729061          0.016393   \n",
       "2020-04-03    6733.387207     152.649994      37.967209          0.004937   \n",
       "2020-04-06    7271.781250     156.880005      39.944164          0.027711   \n",
       "2020-04-07    7176.414551     156.039993      40.108112         -0.005354   \n",
       "\n",
       "            VEU_Daily_Return  BTC_Daily_Return  \n",
       "Date                                            \n",
       "2020-04-01         -0.042418          0.026113  \n",
       "2020-04-02          0.022403          0.028281  \n",
       "2020-04-03         -0.019671         -0.008867  \n",
       "2020-04-06          0.052070          0.079959  \n",
       "2020-04-07          0.004104         -0.013115  "
      ]
     },
     "execution_count": 3,
     "metadata": {},
     "output_type": "execute_result"
    }
   ],
   "source": [
    "dfData['GLD_Daily_Return'] = dfData['GLD_Adj_Close'] / dfData['GLD_Adj_Close'].shift(1) - 1\n",
    "dfData['VEU_Daily_Return'] = dfData['VEU_Adj_Close'] / dfData['VEU_Adj_Close'].shift(1) - 1\n",
    "dfData['BTC_Daily_Return'] = dfData['BTC_Adj_Close'] / dfData['BTC_Adj_Close'].shift(1) - 1# One day return\n",
    "dfData.reset_index(inplace=True)\n",
    "dfData.set_index('Date', inplace=True)\n",
    "dfData['2020-04-01':'2020-12-31'].head()"
   ]
  },
  {
   "cell_type": "markdown",
   "id": "armed-negative",
   "metadata": {},
   "source": [
    "## Fitting a GARCH model"
   ]
  },
  {
   "cell_type": "markdown",
   "id": "composite-chaos",
   "metadata": {},
   "source": [
    "### We will be working with Bitcoin for fitting the GARCH model"
   ]
  },
  {
   "cell_type": "code",
   "execution_count": 16,
   "id": "unique-darkness",
   "metadata": {},
   "outputs": [],
   "source": [
    "dfData['BTC_MA_20D'] = dfData.rolling(window=20)['BTC_Adj_Close'].mean()"
   ]
  },
  {
   "cell_type": "code",
   "execution_count": 17,
   "id": "sonic-residence",
   "metadata": {
    "scrolled": false
   },
   "outputs": [
    {
     "data": {
      "image/png": "[encoded data removed]",
      "text/plain": [
       "<Figure size 1080x648 with 1 Axes>"
      ]
     },
     "metadata": {
      "needs_background": "light"
     },
     "output_type": "display_data"
    }
   ],
   "source": [
    "dfGraph = dfData.loc['2020-04-01':'2020-12-31']\n",
    "\n",
    "plt.figure(figsize=(15,9))\n",
    "plt.plot(dfGraph.index, dfGraph['BTC_Adj_Close'], label='BTC')\n",
    "plt.plot(dfGraph.index, dfGraph['BTC_MA_20D'], label='BTC 20 Day MA', color='orange')\n",
    "plt.legend(loc='upper left')\n",
    "plt.show()"
   ]
  },
  {
   "cell_type": "markdown",
   "id": "informational-fifteen",
   "metadata": {},
   "source": [
    "### Fitting a GARCH model for Q2, Q3 and Q4 (Bitcoin)"
   ]
  },
  {
   "cell_type": "markdown",
   "id": "junior-bronze",
   "metadata": {},
   "source": [
    "We will fit a GARCH(1,1) after we model the mean equation with an ARIMA(2,1,0)."
   ]
  },
  {
   "cell_type": "code",
   "execution_count": 21,
   "id": "resident-march",
   "metadata": {},
   "outputs": [],
   "source": [
    "dfb2q = dfData['BTC_Daily_Return']['2020-04-02':'2020-06-30'].diff() # 1st diff Q2\n",
    "dfb3q = dfData['BTC_Daily_Return']['2020-07-01':'2020-09-30'].diff() # 1st diff Q3\n",
    "dfb4q = dfData['BTC_Daily_Return']['2020-10-01':'2020-12-31'].diff() # 1st diff Q4"
   ]
  },
  {
   "cell_type": "code",
   "execution_count": 22,
   "id": "floating-tunisia",
   "metadata": {},
   "outputs": [
    {
     "name": "stdout",
     "output_type": "stream",
     "text": [
      "ADF Statistic: -7.834\n",
      "p-value: 0.000000000\n",
      "Critical Values:\n",
      "\t1%: -3.469\n",
      "\t5%: -2.878\n",
      "\t10%: -2.576\n"
     ]
    },
    {
     "data": {
      "image/png": "[encoded data removed]",
      "text/plain": [
       "<Figure size 432x288 with 1 Axes>"
      ]
     },
     "metadata": {
      "needs_background": "light"
     },
     "output_type": "display_data"
    },
    {
     "data": {
      "image/png": "[encoded data removed]",
      "text/plain": [
       "<Figure size 432x288 with 1 Axes>"
      ]
     },
     "metadata": {
      "needs_background": "light"
     },
     "output_type": "display_data"
    }
   ],
   "source": [
    "# for first difference:\n",
    "gtest = dfData['BTC_Daily_Return']['2020-04-02':'2020-12-31'].diff().dropna()     \n",
    "\n",
    "result = adfuller(gtest)\n",
    "print('ADF Statistic: %.3f' % result[0])\n",
    "print('p-value: %.9f' % result[1])\n",
    "print('Critical Values:')\n",
    "for key, value in result[4].items():\n",
    "    print('\\t%s: %.3f' % (key, value))\n",
    "\n",
    "plot_acf(gtest, lags=7)\n",
    "plt.show()\n",
    "plot_pacf(gtest, lags=7)\n",
    "plt.show()"
   ]
  },
  {
   "cell_type": "markdown",
   "id": "neither-cardiff",
   "metadata": {},
   "source": [
    "After checking the ACF and PACF we choose an ARIMA(2,1) on first differenced data"
   ]
  },
  {
   "cell_type": "code",
   "execution_count": 24,
   "id": "outdoor-current",
   "metadata": {},
   "outputs": [],
   "source": [
    "import warnings\n",
    "warnings.filterwarnings('ignore')"
   ]
  },
  {
   "cell_type": "code",
   "execution_count": 25,
   "id": "miniature-amplifier",
   "metadata": {
    "scrolled": false
   },
   "outputs": [],
   "source": [
    "mod = ARIMA(dfb2q.dropna(), exog=None, order=(2,0,1))\n",
    "res = mod.fit()\n",
    "#print(res.summary())\n",
    "\n",
    "mod2 = ARIMA(dfb3q.dropna(), exog=None, order=(2,0,1))\n",
    "res2 = mod2.fit()\n",
    "#print(res2.summary())\n",
    "\n",
    "mod3 = ARIMA(dfb4q.dropna(), exog=None, order=(2,0,1))\n",
    "res3 = mod3.fit()\n",
    "#print(res3.summary())"
   ]
  },
  {
   "cell_type": "markdown",
   "id": "absolute-clinic",
   "metadata": {},
   "source": [
    "**GARCH(1,1)**"
   ]
  },
  {
   "cell_type": "markdown",
   "id": "broadband-national",
   "metadata": {},
   "source": [
    " $ \\sigma_t^2 = \\omega + \\alpha_1 \\epsilon^2_{t-1} + \\beta_1\\sigma^2_{t-1}$"
   ]
  },
  {
   "cell_type": "markdown",
   "id": "renewable-party",
   "metadata": {},
   "source": [
    "Conditional Variance =\n",
    "    \\begin{cases}\n",
    "      \\frac{\\omega}{1-\\alpha-\\beta} & \\text{weighted average of the long-run variance}\\\\\n",
    "      \\sigma^2_{t-1} & \\text{the last predicted variance}\\\\\n",
    "      \\epsilon^2_{t-1} & \\text{the new information }\n",
    "    \\end{cases}"
   ]
  },
  {
   "cell_type": "markdown",
   "id": "vital-college",
   "metadata": {},
   "source": [
    "**GARCH(1,1) for Bitcoin**"
   ]
  },
  {
   "cell_type": "code",
   "execution_count": null,
   "id": "genetic-keyboard",
   "metadata": {},
   "outputs": [],
   "source": [
    "dfb2q = dfData['BTC_Daily_Return']['2020-04-02':'2020-06-30'].diff() # 1st diff Q2\n",
    "dfb3q = dfData['BTC_Daily_Return']['2020-07-01':'2020-09-30'].diff() # 1st diff Q3\n",
    "dfb4q = dfData['BTC_Daily_Return']['2020-10-01':'2020-12-31'].diff() # 1st diff Q4"
   ]
  },
  {
   "cell_type": "code",
   "execution_count": 19,
   "id": "arbitrary-facing",
   "metadata": {
    "scrolled": false
   },
   "outputs": [
    {
     "name": "stdout",
     "output_type": "stream",
     "text": [
      "GARCH(1,1) for Bitcoin 2Q\n",
      "Iteration:      1,   Func. Count:      5,   Neg. LLF: 189.4687537964217\n",
      "Iteration:      2,   Func. Count:     10,   Neg. LLF: 188.19800572441508\n",
      "Iteration:      3,   Func. Count:     15,   Neg. LLF: 188.0979753006826\n",
      "Iteration:      4,   Func. Count:     19,   Neg. LLF: 188.08529299221482\n",
      "Iteration:      5,   Func. Count:     23,   Neg. LLF: 188.07691326975672\n",
      "Iteration:      6,   Func. Count:     27,   Neg. LLF: 188.03658778877121\n",
      "Iteration:      7,   Func. Count:     31,   Neg. LLF: 188.0043776580036\n",
      "Iteration:      8,   Func. Count:     35,   Neg. LLF: 188.00280057078243\n",
      "Iteration:      9,   Func. Count:     39,   Neg. LLF: 188.00274483247048\n",
      "Iteration:     10,   Func. Count:     43,   Neg. LLF: 188.00274342252928\n",
      "Iteration:     11,   Func. Count:     46,   Neg. LLF: 188.00274342252973\n",
      "Optimization terminated successfully    (Exit mode 0)\n",
      "            Current function value: 188.00274342252928\n",
      "            Iterations: 11\n",
      "            Function evaluations: 46\n",
      "            Gradient evaluations: 11\n",
      "                      Constant Mean - ARCH Model Results                      \n",
      "==============================================================================\n",
      "Dep. Variable:                      y   R-squared:                       0.000\n",
      "Mean Model:             Constant Mean   Adj. R-squared:                  0.000\n",
      "Vol Model:                       ARCH   Log-Likelihood:               -188.003\n",
      "Distribution:                  Normal   AIC:                           382.005\n",
      "Method:            Maximum Likelihood   BIC:                           388.289\n",
      "                                        No. Observations:                   60\n",
      "Date:                Mon, Dec 20 2021   Df Residuals:                       59\n",
      "Time:                        09:19:45   Df Model:                            1\n",
      "                               Mean Model                               \n",
      "========================================================================\n",
      "                 coef    std err          t      P>|t|  95.0% Conf. Int.\n",
      "------------------------------------------------------------------------\n",
      "mu             0.3518      0.468      0.752      0.452 [ -0.565,  1.269]\n",
      "                            Volatility Model                            \n",
      "========================================================================\n",
      "                 coef    std err          t      P>|t|  95.0% Conf. Int.\n",
      "------------------------------------------------------------------------\n",
      "omega         15.8863      5.604      2.835  4.589e-03 [  4.902, 26.871]\n",
      "alpha[1]       0.6269      0.243      2.579  9.909e-03 [  0.150,  1.103]\n",
      "========================================================================\n",
      "\n",
      "Covariance estimator: robust\n",
      "\n",
      "GARCH(1,1) for Bitcoin 3Q\n",
      "Iteration:      1,   Func. Count:      6,   Neg. LLF: 200.42426567887688\n",
      "Iteration:      2,   Func. Count:     12,   Neg. LLF: 232.64124560476623\n",
      "Iteration:      3,   Func. Count:     18,   Neg. LLF: 181.56386490916094\n",
      "Iteration:      4,   Func. Count:     23,   Neg. LLF: 181.48450242168872\n",
      "Iteration:      5,   Func. Count:     28,   Neg. LLF: 181.37005152494038\n",
      "Iteration:      6,   Func. Count:     33,   Neg. LLF: 181.2806371177579\n",
      "Iteration:      7,   Func. Count:     38,   Neg. LLF: 181.25696555973917\n",
      "Iteration:      8,   Func. Count:     43,   Neg. LLF: 181.24327204317646\n",
      "Iteration:      9,   Func. Count:     48,   Neg. LLF: 181.23497560357245\n",
      "Iteration:     10,   Func. Count:     53,   Neg. LLF: 181.23237161178372\n",
      "Iteration:     11,   Func. Count:     58,   Neg. LLF: 181.2320168408641\n",
      "Iteration:     12,   Func. Count:     63,   Neg. LLF: 181.2319862599461\n",
      "Iteration:     13,   Func. Count:     67,   Neg. LLF: 181.23198632695983\n",
      "Optimization terminated successfully    (Exit mode 0)\n",
      "            Current function value: 181.2319862599461\n",
      "            Iterations: 13\n",
      "            Function evaluations: 67\n",
      "            Gradient evaluations: 13\n",
      "                     Constant Mean - GARCH Model Results                      \n",
      "==============================================================================\n",
      "Dep. Variable:                      y   R-squared:                       0.000\n",
      "Mean Model:             Constant Mean   Adj. R-squared:                  0.000\n",
      "Vol Model:                      GARCH   Log-Likelihood:               -181.232\n",
      "Distribution:                  Normal   AIC:                           370.464\n",
      "Method:            Maximum Likelihood   BIC:                           379.037\n",
      "                                        No. Observations:                   63\n",
      "Date:                Mon, Dec 20 2021   Df Residuals:                       62\n",
      "Time:                        09:19:45   Df Model:                            1\n",
      "                               Mean Model                               \n",
      "========================================================================\n",
      "                 coef    std err          t      P>|t|  95.0% Conf. Int.\n",
      "------------------------------------------------------------------------\n",
      "mu             0.3353      0.480      0.699      0.485 [ -0.605,  1.276]\n",
      "                            Volatility Model                            \n",
      "========================================================================\n",
      "                 coef    std err          t      P>|t|  95.0% Conf. Int.\n",
      "------------------------------------------------------------------------\n",
      "omega         12.8375     15.292      0.839      0.401 [-17.135, 42.810]\n",
      "alpha[1]       0.4028      0.995      0.405      0.686 [ -1.547,  2.353]\n",
      "beta[1]    2.5843e-16      1.292  2.001e-16      1.000 [ -2.532,  2.532]\n",
      "========================================================================\n",
      "\n",
      "Covariance estimator: robust\n",
      "\n",
      "GARCH(1,1) for Bitcoin 4Q\n",
      "Iteration:      1,   Func. Count:      6,   Neg. LLF: 186.45102280486404\n",
      "Iteration:      2,   Func. Count:     11,   Neg. LLF: 188.1205246287053\n",
      "Iteration:      3,   Func. Count:     17,   Neg. LLF: 186.41653345378816\n",
      "Iteration:      4,   Func. Count:     23,   Neg. LLF: 186.13355109544324\n",
      "Iteration:      5,   Func. Count:     28,   Neg. LLF: 186.11085285957805\n",
      "Iteration:      6,   Func. Count:     33,   Neg. LLF: 186.07311641849722\n",
      "Iteration:      7,   Func. Count:     38,   Neg. LLF: 186.05129688434795\n",
      "Iteration:      8,   Func. Count:     43,   Neg. LLF: 186.0472793568311\n",
      "Iteration:      9,   Func. Count:     48,   Neg. LLF: 186.04716184457942\n",
      "Iteration:     10,   Func. Count:     53,   Neg. LLF: 186.04715892293137\n",
      "Iteration:     11,   Func. Count:     57,   Neg. LLF: 186.04715897725384\n",
      "Optimization terminated successfully    (Exit mode 0)\n",
      "            Current function value: 186.04715892293137\n",
      "            Iterations: 11\n",
      "            Function evaluations: 57\n",
      "            Gradient evaluations: 11\n",
      "                     Constant Mean - GARCH Model Results                      \n",
      "==============================================================================\n",
      "Dep. Variable:                      y   R-squared:                       0.000\n",
      "Mean Model:             Constant Mean   Adj. R-squared:                  0.000\n",
      "Vol Model:                      GARCH   Log-Likelihood:               -186.047\n",
      "Distribution:                  Normal   AIC:                           380.094\n",
      "Method:            Maximum Likelihood   BIC:                           388.404\n",
      "                                        No. Observations:                   59\n",
      "Date:                Mon, Dec 20 2021   Df Residuals:                       58\n",
      "Time:                        09:19:45   Df Model:                            1\n",
      "                               Mean Model                               \n",
      "========================================================================\n",
      "                 coef    std err          t      P>|t|  95.0% Conf. Int.\n",
      "------------------------------------------------------------------------\n",
      "mu             0.5689      0.416      1.369      0.171 [ -0.246,  1.384]\n",
      "                              Volatility Model                             \n",
      "===========================================================================\n",
      "                 coef    std err          t      P>|t|     95.0% Conf. Int.\n",
      "---------------------------------------------------------------------------\n",
      "omega         14.3933      6.486      2.219  2.649e-02    [  1.680, 27.106]\n",
      "alpha[1]       0.7927      0.421      1.881  6.001e-02 [-3.341e-02,  1.619]\n",
      "beta[1]        0.0000      0.168      0.000      1.000    [ -0.329,  0.329]\n",
      "===========================================================================\n",
      "\n",
      "Covariance estimator: robust\n",
      "\n"
     ]
    }
   ],
   "source": [
    "garch = arch_model(100*res.data.endog, vol='garch', p=1, o=0, q=0)\n",
    "print('GARCH(1,1) for Bitcoin 2Q')\n",
    "print(garch.fit().summary())\n",
    "print()\n",
    "garch2 = arch_model(100*res2.data.endog, vol='garch', p=1, o=0, q=1)\n",
    "print('GARCH(1,1) for Bitcoin 3Q')**GARCH(1,1) for Bitcoin**\n",
    "print(garch2.fit().summary())\n",
    "print()\n",
    "garch3 = arch_model(100*res3.data.endog, vol='garch', p=1, o=0, q=1)\n",
    "print('GARCH(1,1) for Bitcoin 4Q')\n",
    "print(garch3.fit().summary())\n",
    "print()"
   ]
  },
  {
   "cell_type": "markdown",
   "id": "subject-facial",
   "metadata": {},
   "source": [
    "### Long-term variances indicated by the GARCH models"
   ]
  },
  {
   "cell_type": "markdown",
   "id": "bottom-council",
   "metadata": {},
   "source": [
    "**GARCH**\n",
    "\n",
    "Q2\n",
    "* omega         15.8862      \n",
    "* alpha[1]       0.6269 <br>\n",
    "long term variance = omega/ 1-alpha-beta = 42.57\n",
    "\n",
    "\n",
    "Q3\n",
    "* omega         12.8375     \n",
    "* alpha[1]       0.4028      \n",
    "* beta[1]    2.5843e-16    <br>\n",
    "long term variance = omega/ 1-alpha-beta = 21.49\n",
    "\n",
    "Q4\n",
    "* omega         14.3933     \n",
    "* alpha[1]       0.7927      \n",
    "* beta[1]        0.0000 <br>\n",
    "long term variance = omega/ 1-alpha-beta = 69.4"
   ]
  }
 ],
 "metadata": {
  "kernelspec": {
   "display_name": "Python 3",
   "language": "python",
   "name": "python3"
  },
  "language_info": {
   "codemirror_mode": {
    "name": "ipython",
    "version": 3
   },
   "file_extension": ".py",
   "mimetype": "text/x-python",
   "name": "python",
   "nbconvert_exporter": "python",
   "pygments_lexer": "ipython3",
   "version": "3.8.12"
  }
 },
 "nbformat": 4,
 "nbformat_minor": 5
}
