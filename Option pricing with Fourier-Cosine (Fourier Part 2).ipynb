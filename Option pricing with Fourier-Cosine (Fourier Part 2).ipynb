{
 "cells": [
  {
   "cell_type": "markdown",
   "id": "27b4f687",
   "metadata": {},
   "source": [
    "# Fourier Part 2: Option pricing with Fourier-Cosine series expansion"
   ]
  },
  {
   "cell_type": "markdown",
   "id": "1475f84a",
   "metadata": {},
   "source": [
    "This is an alternative approach way to Option pricing which is relatively easy to adapt and allows us to calculate the greeks. The Fourier-cosine series expansion produces a result which outputs the payoff of the instrument and the underlying process separately."
   ]
  },
  {
   "cell_type": "markdown",
   "id": "6f75b512",
   "metadata": {},
   "source": [
    "> See other related links\n",
    ">* [Option pricing with Fourier transformation (Fourier Part 1)](<https://github.com/raghavduseja/Options/blob/da55f28ac27d95cf672364034035b510034191ff/Option%20pricing%20with%20Fourier%20transformation%20(Fourier%20Part%201).ipynb>)\n",
    ">* Option pricing with Fourier-Cosine (Fourier Part 2)\n",
    ">* Option pricing with Fast-Fourier-Transform (Fourier Part 3)"
   ]
  },
  {
   "cell_type": "markdown",
   "id": "857fda48",
   "metadata": {},
   "source": [
    "## Fourier-Cosine"
   ]
  },
  {
   "cell_type": "markdown",
   "id": "31a27a88",
   "metadata": {},
   "source": [
    "### Cosine expansion"
   ]
  },
  {
   "cell_type": "markdown",
   "id": "0c8f122b",
   "metadata": {},
   "source": [
    "A function f(x) which is defined and integrable over interval [0, $\\infty$]\n",
    "\n",
    "$$ \\frac{a_0}{2} + \\sum_{n=1}^{\\infty}  a_n cos(nx) $$"
   ]
  },
  {
   "cell_type": "markdown",
   "id": "e824c48e",
   "metadata": {},
   "source": [
    "where $ a_n$ is defined as \n",
    "\n",
    "$$ \\frac{2}{\\pi} \\int_{0}^{\\pi} f(x) cos(nx)dx $$"
   ]
  },
  {
   "cell_type": "markdown",
   "id": "ce2cc7cb",
   "metadata": {},
   "source": [
    "### Transforming the variable"
   ]
  },
  {
   "cell_type": "markdown",
   "id": "c1ef3454",
   "metadata": {},
   "source": [
    "We can transform the variable x, so allow for some general vounds [b1,b2]\n",
    "\n",
    "$$ x = {\\pi}\\frac{y-{b_1}}{b_2 -b_1}$$"
   ]
  },
  {
   "cell_type": "markdown",
   "id": "7ebd800d",
   "metadata": {},
   "source": [
    "By transforming the variable, we would have\n",
    "\n",
    "$$ f(y) = \\frac{a_0}{2} + \\sum_{}^{} a_n cos (n{\\pi}\\frac{y-b_1}{b_2 -b_1}) $$\n",
    "\n",
    "$$ \\frac{2}{b_2 - b_1} \\int_{b_1}^{b_2} f(y) cos(n{\\pi}\\frac{y-b_1}{b_2 - b_b1})dy $$"
   ]
  },
  {
   "cell_type": "markdown",
   "id": "121f5244",
   "metadata": {},
   "source": [
    "### General functions for valuation"
   ]
  },
  {
   "cell_type": "markdown",
   "id": "5c520728",
   "metadata": {},
   "source": [
    "We need to evaluate two specific functions $f(x) = e^x$ and $f(x) = 1$"
   ]
  },
  {
   "cell_type": "markdown",
   "id": "dbda4137",
   "metadata": {},
   "source": [
    "We define\n",
    "\n",
    "$$ v_n(c,d) = \\int_c^d e^s cos(n{\\pi}\\frac{s-d_1}{b_2 - b_1})ds$$\n",
    "and \n",
    "$$ {\\psi_n}(c,d) = \\int_c^d cos(n{\\pi}\\frac{s-d_1}{b_2 - b_1})ds$$"
   ]
  },
  {
   "cell_type": "markdown",
   "id": "17c5dd6b",
   "metadata": {},
   "source": [
    "We can evaluate these two functions analytically \n",
    "\n",
    "$$ \\upsilon_n (c,d) = \\frac{cos(n \\pi \\frac{d-b_1}{b_2 - b_1} ) e^d - cos(n \\pi \\frac{c-b_1}{b_2 - b_1} ) e^c + \\frac{n \\pi}{b_2 - b_1}(sin(n \\pi \\frac{d-b_1}{b_2 - b_1} ) e^d - sin(n \\pi \\frac{c-b_1}{b_2 - b_1} ) e^c)}{1 + (\\frac{n \\pi}{b_2 - b_1})^2}$$\n",
    "\n",
    "$$ \\psi_n (c,d) = \\begin{cases}\n",
    "               \\frac{b_2 - b_1}{n \\pi}[sin(n \\pi \\frac{d - b_1}{b_2 - b_1}) - sin(n\\pi \\frac{c - b_1}{b_2 - b_1})] \\text{ when n != 0}\\\\\n",
    "                d-c \\text{ when n = 0}\\\\\n",
    "            \\end{cases} $$"
   ]
  },
  {
   "cell_type": "code",
   "execution_count": null,
   "id": "ae723076",
   "metadata": {},
   "outputs": [],
   "source": [
    "def upsilon_n(b2, b1, d, c, n):\n",
    "    npi_d = np.pi*n*(d-b1)/(b2-b1)\n",
    "    npi_c = np.pi*n*(c-b1)/(b2-b1)\n",
    "    val_one = (np.cos(npi_d)*np.exp(d)-np.cos(npi_c)*np.exp(c))\n",
    "    val_two = (n*np.pi*(np.sin(npi_d)*np.exp(d)-np.sin(npi_c)*np.exp(c))/(b2-b1))\n",
    "    return (val_one + val_two)/(1 + (n*np.pi/(b2-b1))**2)\n",
    "\n",
    "def psi_n(b2, b1, d, c, n):\n",
    "    if n == 0:\n",
    "        return d-c\n",
    "    else:\n",
    "        return (b2-b1)*(np.sin(n*np.pi*(d-b1)/(b2-b1)) - np.sin(n*np.pi*(c-b1)/(b2-b1)))/(n*np.pi)"
   ]
  },
  {
   "cell_type": "markdown",
   "id": "7d95559c",
   "metadata": {},
   "source": [
    "## Pricing"
   ]
  },
  {
   "cell_type": "markdown",
   "id": "a9fadffb",
   "metadata": {},
   "source": [
    "### Pricing a call under Black-Scholes"
   ]
  },
  {
   "cell_type": "code",
   "execution_count": 20,
   "id": "4eb7c712",
   "metadata": {},
   "outputs": [],
   "source": [
    "import numpy as np\n",
    "from scipy.stats import norm\n",
    "import matplotlib.pyplot as plt\n",
    "\n",
    "# share \n",
    "r = 0.02\n",
    "S0 = 100\n",
    "sigma = 0.20\n",
    "\n",
    "# call option \n",
    "K = 110\n",
    "T = 1\n",
    "k_log = np.log(K)"
   ]
  },
  {
   "cell_type": "code",
   "execution_count": 21,
   "id": "d1208eb8",
   "metadata": {},
   "outputs": [
    {
     "data": {
      "text/plain": [
       "4.94386695723049"
      ]
     },
     "execution_count": 21,
     "metadata": {},
     "output_type": "execute_result"
    }
   ],
   "source": [
    "# code for the analytical solution for vanilla European call option pricing\n",
    "d1_stock = (np.log(S0/K) + (r + sigma**2/2)*T)/(sigma*np.sqrt(T))\n",
    "d2_stock = d1_stock - sigma*np.sqrt(T)\n",
    "\n",
    "analytic_callprice = S0*norm.cdf(d1_stock) - K*np.exp(-r*T)*norm.cdf(d2_stock) \n",
    "analytic_callprice"
   ]
  },
  {
   "cell_type": "markdown",
   "id": "a756305e",
   "metadata": {},
   "source": [
    "### Pricing a call under Fourier-Cosine"
   ]
  },
  {
   "cell_type": "markdown",
   "id": "93a52a3b",
   "metadata": {},
   "source": [
    "Under the transformation $ S_T = ln \\frac{S_T}{K}$\n",
    "\n",
    "$$c \\approx e^{-rT}(\\frac{\\upsilon_0 \\phi_{S_T}(0)}{2} + \\Sigma_{n=1}^{N-1}Re(\\phi_{S_T}(\\frac{n \\pi}{b_2 - b_1})e^{-in \\pi \\frac{b_1}{b_2 - b_1}})\\upsilon_n)$$\n",
    "\n",
    "The above formula is known as the COS formula.\n",
    "\n",
    "where $\\phi_{S_T} ()$ is the characterstic of $S_T$ and:\n",
    "\n",
    "$$ \\upsilon_n = \\frac{2}{b_2 - b_1}K(\\nu_n(0,b_2) - \\psi_n(0,b_2)) $$"
   ]
  },
  {
   "cell_type": "code",
   "execution_count": 22,
   "id": "41e5460c",
   "metadata": {},
   "outputs": [],
   "source": [
    "def v_n(K, b2, b1, n):\n",
    "    return 2*K*(upsilon_n(b2, b1, b2, 0, n) - psi_n(b2, b1, b2, 0, n))/(b2 - b1)\n",
    "\n",
    "# phi_ST\n",
    "def logchar_func(u, S0, r, sigma, K, T):\n",
    "    return np.exp(1j*u*(np.log(S0/K) + (r-sigma**2/2)*T) - (sigma**2)*T*(u**2)/2)\n",
    "\n",
    "def call_price(N, S0, sigma, r, K, T, b2, b1):\n",
    "    price = v_n(K, b2, b1, 0)*logchar_func(0, S0, r, sigma, K, T)/2\n",
    "    for n in range(1,N):\n",
    "        price = price + logchar_func(n*np.pi/(b2-b1), S0, r, sigma, K, T)*np.exp(-1j*n*np.pi*b1/(b2-b1))*v_n(K, b2, b1, n)\n",
    "    return price.real*np.exp(-r*T)"
   ]
  },
  {
   "cell_type": "markdown",
   "id": "49415d10",
   "metadata": {},
   "source": [
    "This method was formulated by Fang and Oosterlee in 2008. <br>\n",
    "You can find the link to the original publication in the **References** section below."
   ]
  },
  {
   "cell_type": "markdown",
   "id": "775b89a5",
   "metadata": {},
   "source": [
    "### Chosing an appropriate interval [b1,b2]"
   ]
  },
  {
   "cell_type": "markdown",
   "id": "58081d3b",
   "metadata": {},
   "source": [
    "We need to choose appropriate values for b1 and b2 to use in the above formula. We are going to be intergrate over b1 and b2 instead of letting the integrals going to infinity."
   ]
  },
  {
   "cell_type": "markdown",
   "id": "03a64e82",
   "metadata": {},
   "source": [
    "$$ b_1 = c_1 - L \\sqrt{c_2 + \\sqrt{c_4}}$$\n",
    "\n",
    "$$ b_2= c_1 + L \\sqrt{c_2 + \\sqrt{c_4}}$$"
   ]
  },
  {
   "cell_type": "markdown",
   "id": "a3c88420",
   "metadata": {},
   "source": [
    "We are assuming that the underlying process follows the **Geometric Brownian Motion**, and under this assumption we can find the following values of L, c1, c2 and c4."
   ]
  },
  {
   "cell_type": "markdown",
   "id": "6b0dfa63",
   "metadata": {},
   "source": [
    "$$ L = 10 $$\n",
    "$$ c_1 = \\mu T$$\n",
    "$$c_2 = \\sigma_{S_T}T $$\n",
    "$$c_4 = 0$$"
   ]
  },
  {
   "cell_type": "markdown",
   "id": "62bbeb88",
   "metadata": {},
   "source": [
    "In our case $c_1 = ln \\frac{S_T}{K} + (r-\\frac{\\sigma^2}{2})T$ and $c_2 = \\sigma^2 T$ for $S_T$."
   ]
  },
  {
   "cell_type": "code",
   "execution_count": 23,
   "id": "558153fc",
   "metadata": {},
   "outputs": [],
   "source": [
    "c1 = r\n",
    "c2 = T*sigma**2\n",
    "c4 = 0\n",
    "L = 10\n",
    "\n",
    "b1 = c1 - L*np.sqrt(c2 - np.sqrt(c4))\n",
    "b2 = c1 + L*np.sqrt(c2 - np.sqrt(c4))"
   ]
  },
  {
   "cell_type": "markdown",
   "id": "81070d9a",
   "metadata": {},
   "source": [
    "### Calculating the Option price in Python"
   ]
  },
  {
   "cell_type": "code",
   "execution_count": 24,
   "id": "8cae4137",
   "metadata": {},
   "outputs": [],
   "source": [
    "# Calculating COS for various N\n",
    "COS_callprice = [None]*50\n",
    "\n",
    "for i in range(1,51):\n",
    "    COS_callprice[i-1] = call_price(i, S0, sigma, r, K, T, b2, b1)"
   ]
  },
  {
   "cell_type": "code",
   "execution_count": 29,
   "id": "cb82690d",
   "metadata": {},
   "outputs": [
    {
     "data": {
      "text/plain": [
       "4.943866957230438"
      ]
     },
     "execution_count": 29,
     "metadata": {},
     "output_type": "execute_result"
    }
   ],
   "source": [
    "COS_callprice[-1]"
   ]
  },
  {
   "cell_type": "markdown",
   "id": "46a7a93d",
   "metadata": {},
   "source": [
    "We can see that the COS prices converges to the Analytical Black-Scholes price as N increases. <br>\n",
    "The final price is the same for both the methods."
   ]
  },
  {
   "cell_type": "code",
   "execution_count": 30,
   "id": "09277b81",
   "metadata": {
    "scrolled": true
   },
   "outputs": [
    {
     "data": {
      "image/png": "[encoded data removed]",
      "text/plain": [
       "<Figure size 432x288 with 1 Axes>"
      ]
     },
     "metadata": {
      "needs_background": "light"
     },
     "output_type": "display_data"
    }
   ],
   "source": [
    "plt.plot(COS_callprice)\n",
    "plt.plot([analytic_callprice]*50)\n",
    "plt.xlabel(\"N\")\n",
    "plt.ylabel(\"Call Price\")\n",
    "plt.show()"
   ]
  },
  {
   "cell_type": "markdown",
   "id": "f08cdfc2",
   "metadata": {},
   "source": [
    "We can now plot the \"Log Absolute Error\" between COS price and analytical price, as seen below:"
   ]
  },
  {
   "cell_type": "code",
   "execution_count": 31,
   "id": "5c54c542",
   "metadata": {},
   "outputs": [
    {
     "data": {
      "image/png": "[encoded data removed]",
      "text/plain": [
       "<Figure size 432x288 with 1 Axes>"
      ]
     },
     "metadata": {
      "needs_background": "light"
     },
     "output_type": "display_data"
    }
   ],
   "source": [
    "plt.plot(np.log(np.absolute(COS_callprice - analytic_callprice)))\n",
    "plt.xlabel(\"N\")\n",
    "plt.ylabel(\"Log absolute error\")\n",
    "plt.title(\"COS Call Estimates\")\n",
    "plt.show()"
   ]
  },
  {
   "cell_type": "markdown",
   "id": "33e5500e",
   "metadata": {},
   "source": [
    "### Related links\n",
    "* [Option pricing with Fourier transformation (Fourier Part 1)](<https://github.com/raghavduseja/Options/blob/da55f28ac27d95cf672364034035b510034191ff/Option%20pricing%20with%20Fourier%20transformation%20(Fourier%20Part%201).ipynb>)\n",
    "* Option pricing with Fourier-Cosine (Fourier Part 2)\n",
    "* Option pricing with Fast-Fourier-Transform (Fourier Part 3)"
   ]
  },
  {
   "cell_type": "markdown",
   "id": "73cec561",
   "metadata": {},
   "source": [
    "### References"
   ]
  },
  {
   "cell_type": "markdown",
   "id": "99e3fdea",
   "metadata": {},
   "source": [
    "* Yves Hilpisch, \"Chapter 6: Derivatives Analytics with Python: Data Analysis, Models, Simulation, Calibration and Hedging\"\n",
    "* Fourier methods, Python codes: https://github.com/yhilpisch/dawp/tree/master/python36/06_fou\n",
    "* Martin Schmelzle, \"COS Fourier-Cosine Series Expansions and Option Pricing\", https://pfadintegral.com/articles/cos-option-pricing/\n",
    "* Fang, Fang and Cornelis W. Oosterlee (2008) A novel pricing method for European options based on Fourier-cosine series expansions, SIAM Journal on Scientific Computing 31(2), 826–848. [DOI:10.1137/080718061](https://doi.org/10.1137/080718061)\n",
    "* WQU notes, Computational Finance"
   ]
  }
 ],
 "metadata": {
  "kernelspec": {
   "display_name": "Python 3 (ipykernel)",
   "language": "python",
   "name": "python3"
  },
  "language_info": {
   "codemirror_mode": {
    "name": "ipython",
    "version": 3
   },
   "file_extension": ".py",
   "mimetype": "text/x-python",
   "name": "python",
   "nbconvert_exporter": "python",
   "pygments_lexer": "ipython3",
   "version": "3.8.12"
  }
 },
 "nbformat": 4,
 "nbformat_minor": 5
}
