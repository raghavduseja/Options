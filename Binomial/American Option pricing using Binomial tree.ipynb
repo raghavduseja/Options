{
 "cells": [
  {
   "cell_type": "markdown",
   "id": "banned-organic",
   "metadata": {},
   "source": [
    "## <font color=darkblue>  American Options pricing using Binomial tree </font>"
   ]
  },
  {
   "cell_type": "markdown",
   "id": "human-laundry",
   "metadata": {},
   "source": [
    "## <font color=green> American Call option <font color=darkblue>\n",
    "\n",
    "* CMP = 95\n",
    "* K = 90\n",
    "* T = 1 year\n",
    "* r = 0 \n",
    "* 5 steps"
   ]
  },
  {
   "cell_type": "code",
   "execution_count": 2,
   "id": "enabling-syndrome",
   "metadata": {},
   "outputs": [],
   "source": [
    "call, put, european, american = 100, 101, 102, 103"
   ]
  },
  {
   "cell_type": "markdown",
   "id": "fifth-composition",
   "metadata": {},
   "source": [
    "Setting the upper movement of the price (u): <br>\n",
    "\n",
    "u = 1.30 <br>\n",
    "d = 1/u "
   ]
  },
  {
   "cell_type": "code",
   "execution_count": 3,
   "id": "southern-amber",
   "metadata": {
    "scrolled": true
   },
   "outputs": [
    {
     "name": "stdout",
     "output_type": "stream",
     "text": [
      "Calculation Inputs\n",
      "             Price : 95.000\n",
      "            Strike : 90.000\n",
      "         Risk-free : 0.000\n",
      "         Div Yield : 0.000\n",
      "          TTE Days : 365.000\n",
      "\n"
     ]
    }
   ],
   "source": [
    "side = call  # Option side\n",
    "style = american  # Option style\n",
    "price = 95  #Current instrument price\n",
    "strike = 90  #Strike price\n",
    "riskfree = 0  \n",
    "divyield = 0\n",
    "tte = 365  # Time to expiration in days\n",
    "\n",
    "print('Calculation Inputs')\n",
    "print('%18s : %0.3f' % ('Price', price))\n",
    "print('%18s : %0.3f' % ('Strike', strike))\n",
    "print('%18s : %0.3f' % ('Risk-free', riskfree))\n",
    "print('%18s : %0.3f' % ('Div Yield', divyield))\n",
    "print('%18s : %0.3f' % ('TTE Days', tte))\n",
    "print()"
   ]
  },
  {
   "cell_type": "code",
   "execution_count": 4,
   "id": "legendary-equipment",
   "metadata": {},
   "outputs": [
    {
     "name": "stdout",
     "output_type": "stream",
     "text": [
      "       Node prob U : 0.43478261\n",
      "       Node prob D : 0.56521739\n",
      "       Node tdelta : 0.20000000\n",
      "   Node discount f : 0.00000000\n"
     ]
    }
   ],
   "source": [
    "n = 5  # Depth of binomial tree \n",
    "tdelta = tte / (n * 365)  # Time delta per one step (as fraction of year)\n",
    "u = 1.30  \n",
    "d = 1 / u  \n",
    "rf = 0  \n",
    "dy = 0  \n",
    "pu = (1 + rf - dy - d) / (u - d)  \n",
    "pd = 1 - pu  \n",
    "\n",
    "assert side in [call, put] and style in [american, european]\n",
    "print('%18s : %0.8f' % ('Node prob U', pu))\n",
    "print('%18s : %0.8f' % ('Node prob D', pd))\n",
    "print('%18s : %0.8f' % ('Node tdelta', tdelta))\n",
    "print('%18s : %0.8f' % ('Node discount f', rf))"
   ]
  },
  {
   "cell_type": "code",
   "execution_count": 5,
   "id": "aquatic-adams",
   "metadata": {
    "scrolled": false
   },
   "outputs": [
    {
     "name": "stdout",
     "output_type": "stream",
     "text": [
      "Binomial Tree\n",
      "\n",
      "Node [5,0] \t Price 352.728 \t Option Value 262.728\n",
      "Node [5,1] \t Price 208.715 \t Option Value 118.715\n",
      "Node [5,2] \t Price 123.500 \t Option Value 33.500\n",
      "Node [5,3] \t Price 73.077 \t Option Value  0.000\n",
      "Node [5,4] \t Price 43.241 \t Option Value  0.000\n",
      "Node [5,5] \t Price 25.586 \t Option Value  0.000\n",
      "\n",
      "Node [4,0] \t Price 271.330 \t Option Value 181.330\n",
      "Node [4,1] \t Price 160.550 \t Option Value 70.550\n",
      "Node [4,2] \t Price 95.000 \t Option Value 14.565\n",
      "Node [4,3] \t Price 56.213 \t Option Value  0.000\n",
      "Node [4,4] \t Price 33.262 \t Option Value  0.000\n",
      "\n",
      "Node [3,0] \t Price 208.715 \t Option Value 118.715\n",
      "Node [3,1] \t Price 123.500 \t Option Value 38.906\n",
      "Node [3,2] \t Price 73.077 \t Option Value  6.333\n",
      "Node [3,3] \t Price 43.241 \t Option Value  0.000\n",
      "\n",
      "Node [2,0] \t Price 160.550 \t Option Value 73.606\n",
      "Node [2,1] \t Price 95.000 \t Option Value 20.495\n",
      "Node [2,2] \t Price 56.213 \t Option Value  2.753\n",
      "\n",
      "Node [1,0] \t Price 123.500 \t Option Value 43.587\n",
      "Node [1,1] \t Price 73.077 \t Option Value 10.467\n",
      "\n",
      "Node [0,0] \t Price 95.000 \t Option Value 24.867\n"
     ]
    }
   ],
   "source": [
    "print('Binomial Tree')\n",
    "\n",
    "# Generate terminal nodes of binomial tree\n",
    "level = []\n",
    "print()\n",
    "for j in range(0, n + 1):\n",
    "    pr = price * d ** j * u ** (n - j)\n",
    "    # Option value at the node (depending on side)\n",
    "    ov = max(0.0, pr - strike) if side == call else max(0.0, strike - pr)\n",
    "    level.append((pr, ov))\n",
    "    print('Node [%i,%i] \\t Price %6.3f \\t Option Value %6.3f' % (n, j, pr, ov))\n",
    "\n",
    "levels = [None, None, None]\n",
    "\n",
    "# reduce binomial tree\n",
    "for i in range(n - 1, -1, -1):  # [n-1 to 0]\n",
    "    levelNext = []\n",
    "    print()\n",
    "    for j in range(0, i + 1):  \n",
    "        node_u, node_d = level[j], level[j + 1]\n",
    "        # Instrument's price at the node\n",
    "        pr = node_d[0] / d\n",
    "        # Option value at the node (depending on side)\n",
    "        ov = (node_d[1] * pd + node_u[1] * pu) / (1 + rf)\n",
    "        if style == american:  # for American options\n",
    "            ov = max(ov, pr - strike if side == call else strike - pr)\n",
    "        levelNext.append((pr, ov))\n",
    "        print('Node [%i,%i] \\t Price %6.3f \\t Option Value %6.3f' % (i, j, pr, ov))\n",
    "    level = levelNext\n",
    "    if j <= 2: levels[j] = level "
   ]
  },
  {
   "cell_type": "markdown",
   "id": "charming-unemployment",
   "metadata": {},
   "source": [
    "Value of the derivative at each node can be seen in the last column above"
   ]
  },
  {
   "cell_type": "markdown",
   "id": "diverse-modern",
   "metadata": {},
   "source": [
    "Value of the call option at time 0 = 24.86"
   ]
  },
  {
   "cell_type": "markdown",
   "id": "certified-spending",
   "metadata": {},
   "source": [
    "### <font color=green> American call option: </font> Benefit from early exercise\n",
    "\n",
    "The value of any node in an American option is governed by the function  <b style=\"color: green\">max(intrinsic value, expected discounted value)</b>\n",
    "\n",
    "$V_n = \\max\\left(G_n,\\frac{pV_{n +1}H^d + qV_{n + 1}H^u}{1 + r}\\right)$   \n",
    "\n",
    "\n",
    "In the case of American options we will benefit from exercising the option at an 'optimal time'.<br>\n",
    "    Optimal exercise price: $\\min\\{n: V_n = G_n\\}$\n",
    "\n",
    "Note that $V_n = G_n$ when $E(V_{n+1})\\leq G_n$\n",
    "\n"
   ]
  },
  {
   "cell_type": "code",
   "execution_count": 6,
   "id": "requested-basics",
   "metadata": {},
   "outputs": [
    {
     "name": "stdout",
     "output_type": "stream",
     "text": [
      "G(n) Process for American Call\n",
      "\n",
      "Node [5,0] \t G(n) 262.728\n",
      "Node [5,1] \t G(n) 118.715\n",
      "Node [5,2] \t G(n) 33.500\n",
      "Node [5,3] \t G(n)  0.000\n",
      "Node [5,4] \t G(n)  0.000\n",
      "Node [5,5] \t G(n)  0.000\n",
      "\n",
      "Node [4,0] \t G(n) 181.330\n",
      "Node [4,1] \t G(n) 70.550\n",
      "Node [4,2] \t G(n)  5.000\n",
      "Node [4,3] \t G(n)  0.000\n",
      "Node [4,4] \t G(n)  0.000\n",
      "\n",
      "Node [3,0] \t G(n) 118.715\n",
      "Node [3,1] \t G(n) 33.500\n",
      "Node [3,2] \t G(n)  0.000\n",
      "Node [3,3] \t G(n)  0.000\n",
      "\n",
      "Node [2,0] \t G(n) 70.550\n",
      "Node [2,1] \t G(n)  5.000\n",
      "Node [2,2] \t G(n)  0.000\n",
      "\n",
      "Node [1,0] \t G(n) 33.500\n",
      "Node [1,1] \t G(n)  0.000\n",
      "\n",
      "Node [0,0] \t G(n)  5.000\n"
     ]
    }
   ],
   "source": [
    "print('G(n) Process for American Call')\n",
    "\n",
    "# Generate terminal nodes of binomial tree\n",
    "level = []\n",
    "print()\n",
    "for j in range(0, n + 1):\n",
    "    pr = price * d ** j * u ** (n - j)\n",
    "    # Option value at the node (depending on side)\n",
    "    ov = max(0.0, pr - strike) if side == call else max(0.0, strike - pr)\n",
    "    gv = max(0, pr - strike)\n",
    "\n",
    "    level.append((pr, ov, gv))\n",
    "    print('Node [%i,%i] \\t G(n) %6.3f' % (n, j, gv))\n",
    "\n",
    "levels = [None, None, None]\n",
    "\n",
    "# reduce binomial tree\n",
    "for i in range(n - 1, -1, -1):  # [n-1 to 0]\n",
    "    levelNext = []\n",
    "    print()\n",
    "    for j in range(0, i + 1):  \n",
    "        node_u, node_d = level[j], level[j + 1]\n",
    "        # Instrument's price at the node\n",
    "        pr = node_d[0] / d\n",
    "        # Option value at the node (depending on side)\n",
    "        ov = (node_d[1] * pd + node_u[1] * pu) / (1 + rf)\n",
    "        gv = max(0, pr - strike)\n",
    "\n",
    "        if style == american:  # for American options\n",
    "            ov = max(ov, pr - strike if side == call else strike - pr)\n",
    "        levelNext.append((pr, ov, gv))\n",
    "        print('Node [%i,%i] \\t G(n) %6.3f' % (i, j, gv))\n",
    "    level = levelNext\n",
    "    if j <= 2: levels[j] = level "
   ]
  },
  {
   "cell_type": "markdown",
   "id": "bored-tampa",
   "metadata": {},
   "source": [
    "We can see that the $V_n = G_n$ is true for the following nodes: \n",
    "* [3,3] ; t = 3\n",
    "* [3,0] ; t = 3\n",
    "* [4,1] ; t = 4\n",
    "<br><br>\n",
    "\n",
    "The above nodes will the optimal time for early exercise. <br>\n",
    "The rest of the paths will only be exercised at expiry."
   ]
  },
  {
   "cell_type": "markdown",
   "id": "sonic-furniture",
   "metadata": {},
   "source": [
    "### General case: Early exercise of <font color=green>American Call Option </font>\n",
    "In our case, we are getting early stopping times for exercising a Call only because the risk free rate r=0. We will not get these early stopping times in a setting where r is greater 0.<br><br>\n",
    "Generally speaking, it can be proved that there is never an optimal time to exercise an American call if the stock is not dividend paying. If the stock is dividend paying, it might make sense to exercise the call prior to the dividend, depending on the value of the dividend.<br><br>\n",
    "Another perspective to this problem is that if the owner of an American option does not exercise the option at the ‘optimal time’, a replicating portfolio will be able to \"consume\" profits by re-hedging at a lower price.\n",
    "\n",
    "<br> **Note: that the comparison here is between exercising the option vs selling the option in the open market, not between exercising the option and holding it to expiry!**"
   ]
  },
  {
   "cell_type": "markdown",
   "id": "annual-induction",
   "metadata": {},
   "source": [
    "## <font color=orange>American Put Option<font color=darkblue>"
   ]
  },
  {
   "cell_type": "code",
   "execution_count": 7,
   "id": "selective-pencil",
   "metadata": {},
   "outputs": [
    {
     "name": "stdout",
     "output_type": "stream",
     "text": [
      "Calculation Inputs\n",
      "             Price : 95.000\n",
      "            Strike : 90.000\n",
      "         Risk-free : 0.000\n",
      "         Div Yield : 0.000\n",
      "          TTE Days : 365.000\n",
      "\n"
     ]
    }
   ],
   "source": [
    "side = put  # Option side\n",
    "style = american  # Option style\n",
    "price = 95  #Current instrument price\n",
    "strike = 90  #Strike price\n",
    "riskfree = 0  \n",
    "divyield = 0\n",
    "tte = 365  # Time to expiration in days\n",
    "\n",
    "print('Calculation Inputs')\n",
    "print('%18s : %0.3f' % ('Price', price))\n",
    "print('%18s : %0.3f' % ('Strike', strike))\n",
    "print('%18s : %0.3f' % ('Risk-free', riskfree))\n",
    "print('%18s : %0.3f' % ('Div Yield', divyield))\n",
    "print('%18s : %0.3f' % ('TTE Days', tte))\n",
    "print()"
   ]
  },
  {
   "cell_type": "code",
   "execution_count": 8,
   "id": "aerial-trash",
   "metadata": {},
   "outputs": [
    {
     "name": "stdout",
     "output_type": "stream",
     "text": [
      "       Node prob U : 0.43478261\n",
      "       Node prob D : 0.56521739\n",
      "       Node tdelta : 0.20000000\n",
      "   Node discount f : 0.00000000\n"
     ]
    }
   ],
   "source": [
    "n = 5  # Depth of binomial tree (levels are numbered from 0 to n)\n",
    "tdelta = tte / (n * 365)  # Time delta per one step (as fraction of year)\n",
    "u = 1.30  # Up movement per step\n",
    "d = 1 / u  # Down movement per step\n",
    "rf = 0  # Risk-free rate per step\n",
    "dy = 0  # Dividend yield per step\n",
    "pu = (1 + rf - dy - d) / (u - d)  # Probability of up movement\n",
    "pd = 1 - pu  # Probability of down movement\n",
    "\n",
    "assert side in [call, put] and style in [american, european]\n",
    "print('%18s : %0.8f' % ('Node prob U', pu))\n",
    "print('%18s : %0.8f' % ('Node prob D', pd))\n",
    "print('%18s : %0.8f' % ('Node tdelta', tdelta))\n",
    "print('%18s : %0.8f' % ('Node discount f', rf))"
   ]
  },
  {
   "cell_type": "code",
   "execution_count": 9,
   "id": "isolated-workstation",
   "metadata": {},
   "outputs": [
    {
     "name": "stdout",
     "output_type": "stream",
     "text": [
      "Binomial Tree\n",
      "\n",
      "Node [5,0] \t Price 352.728 \t Option Value  0.000\n",
      "Node [5,1] \t Price 208.715 \t Option Value  0.000\n",
      "Node [5,2] \t Price 123.500 \t Option Value  0.000\n",
      "Node [5,3] \t Price 73.077 \t Option Value 16.923\n",
      "Node [5,4] \t Price 43.241 \t Option Value 46.759\n",
      "Node [5,5] \t Price 25.586 \t Option Value 64.414\n",
      "\n",
      "Node [4,0] \t Price 271.330 \t Option Value  0.000\n",
      "Node [4,1] \t Price 160.550 \t Option Value  0.000\n",
      "Node [4,2] \t Price 95.000 \t Option Value  9.565\n",
      "Node [4,3] \t Price 56.213 \t Option Value 33.787\n",
      "Node [4,4] \t Price 33.262 \t Option Value 56.738\n",
      "\n",
      "Node [3,0] \t Price 208.715 \t Option Value  0.000\n",
      "Node [3,1] \t Price 123.500 \t Option Value  5.406\n",
      "Node [3,2] \t Price 73.077 \t Option Value 23.256\n",
      "Node [3,3] \t Price 43.241 \t Option Value 46.759\n",
      "\n",
      "Node [2,0] \t Price 160.550 \t Option Value  3.056\n",
      "Node [2,1] \t Price 95.000 \t Option Value 15.495\n",
      "Node [2,2] \t Price 56.213 \t Option Value 36.540\n",
      "\n",
      "Node [1,0] \t Price 123.500 \t Option Value 10.087\n",
      "Node [1,1] \t Price 73.077 \t Option Value 27.390\n",
      "\n",
      "Node [0,0] \t Price 95.000 \t Option Value 19.867\n"
     ]
    }
   ],
   "source": [
    "print('Binomial Tree')\n",
    "\n",
    "# Generate terminal nodes of binomial tree\n",
    "level = []\n",
    "print()\n",
    "for j in range(0, n + 1):\n",
    "    pr = price * d ** j * u ** (n - j)\n",
    "    # Option value at the node (depending on side)\n",
    "    ov = max(0.0, pr - strike) if side == call else max(0.0, strike - pr)\n",
    "    level.append((pr, ov))\n",
    "    print('Node [%i,%i] \\t Price %6.3f \\t Option Value %6.3f' % (n, j, pr, ov))\n",
    "\n",
    "levels = [None, None, None]\n",
    "\n",
    "# reduce binomial tree\n",
    "for i in range(n - 1, -1, -1):  # [n-1 to 0]\n",
    "    levelNext = []\n",
    "    print()\n",
    "    for j in range(0, i + 1):  \n",
    "        node_u, node_d = level[j], level[j + 1]\n",
    "        # Instrument's price at the node\n",
    "        pr = node_d[0] / d\n",
    "        # Option value at the node (depending on side)\n",
    "        ov = (node_d[1] * pd + node_u[1] * pu) / (1 + rf)\n",
    "        if style == american:  # for American options \n",
    "            ov = max(ov, pr - strike if side == call else strike - pr)\n",
    "        levelNext.append((pr, ov))\n",
    "        print('Node [%i,%i] \\t Price %6.3f \\t Option Value %6.3f' % (i, j, pr, ov))\n",
    "    level = levelNext\n",
    "    if j <= 2: levels[j] = level "
   ]
  },
  {
   "cell_type": "markdown",
   "id": "worst-property",
   "metadata": {},
   "source": [
    "The price of the put option at time = 0 is 19.867"
   ]
  },
  {
   "cell_type": "markdown",
   "id": "atomic-aluminum",
   "metadata": {},
   "source": [
    "### <font color=orange>American Put option: </font> Benefits from early exercise"
   ]
  },
  {
   "cell_type": "markdown",
   "id": "amended-grenada",
   "metadata": {},
   "source": [
    "The value of any node in an American option is governed by the function  <b style=\"color: green\">max(intrinsic value, expected discounted value)</b>\n",
    "\n",
    "$V_n = \\max\\left(G_n,\\frac{pV_{n +1}H^d + qV_{n + 1}H^u}{1 + r}\\right)$   \n",
    "\n",
    "\n",
    "Yes, in the case of American options we will benefit from exercising the option at a minimal optimal exercise time.<br><br>\n",
    "    Optimal exercise price: $\\min\\{n: V_n = G_n\\}$\n",
    "\n",
    "Note that $V_n = G_n$ when $E(V_{n+1})\\leq G_n$"
   ]
  },
  {
   "cell_type": "code",
   "execution_count": 10,
   "id": "unnecessary-vegetarian",
   "metadata": {},
   "outputs": [
    {
     "name": "stdout",
     "output_type": "stream",
     "text": [
      "G(n) Process for American Put\n",
      "\n",
      "Node [5,0] \t G(n)  0.000\n",
      "Node [5,1] \t G(n)  0.000\n",
      "Node [5,2] \t G(n)  0.000\n",
      "Node [5,3] \t G(n) 16.923\n",
      "Node [5,4] \t G(n) 46.759\n",
      "Node [5,5] \t G(n) 64.414\n",
      "\n",
      "Node [4,0] \t G(n)  0.000\n",
      "Node [4,1] \t G(n)  0.000\n",
      "Node [4,2] \t G(n)  0.000\n",
      "Node [4,3] \t G(n) 33.787\n",
      "Node [4,4] \t G(n) 56.738\n",
      "\n",
      "Node [3,0] \t G(n)  0.000\n",
      "Node [3,1] \t G(n)  0.000\n",
      "Node [3,2] \t G(n) 16.923\n",
      "Node [3,3] \t G(n) 46.759\n",
      "\n",
      "Node [2,0] \t G(n)  0.000\n",
      "Node [2,1] \t G(n)  0.000\n",
      "Node [2,2] \t G(n) 33.787\n",
      "\n",
      "Node [1,0] \t G(n)  0.000\n",
      "Node [1,1] \t G(n) 16.923\n",
      "\n",
      "Node [0,0] \t G(n)  0.000\n"
     ]
    }
   ],
   "source": [
    "print('G(n) Process for American Put')\n",
    "\n",
    "# Generate terminal nodes of binomial tree\n",
    "level = []\n",
    "print()\n",
    "for j in range(0, n + 1):\n",
    "    pr = price * d ** j * u ** (n - j)\n",
    "    # Option value at the node (depending on side)\n",
    "    ov = max(0.0, pr - strike) if side == call else max(0.0, strike - pr)\n",
    "    gv = max(0, strike - pr)\n",
    "\n",
    "    level.append((pr, ov, gv))\n",
    "    print('Node [%i,%i] \\t G(n) %6.3f' % (n, j, gv))\n",
    "\n",
    "levels = [None, None, None]\n",
    "\n",
    "# reduce binomial tree\n",
    "for i in range(n - 1, -1, -1):  # [n-1 to 0]\n",
    "    levelNext = []\n",
    "    print()\n",
    "    for j in range(0, i + 1):  \n",
    "        node_u, node_d = level[j], level[j + 1]\n",
    "        # Instrument's price at the node\n",
    "        pr = node_d[0] / d\n",
    "        # Option value at the node (depending on side)\n",
    "        ov = (node_d[1] * pd + node_u[1] * pu) / (1 + rf)\n",
    "        gv = max(0, strike - pr)\n",
    "\n",
    "        if style == american:  # for American options\n",
    "            ov = max(ov, pr - strike if side == call else strike - pr)\n",
    "        levelNext.append((pr, ov, gv))\n",
    "        print('Node [%i,%i] \\t G(n) %6.3f' % (i, j, gv))\n",
    "    level = levelNext\n",
    "    if j <= 2: levels[j] = level "
   ]
  },
  {
   "cell_type": "markdown",
   "id": "secret-contemporary",
   "metadata": {},
   "source": [
    "We can see that the $V_n = G_n$ is true for the following nodes: \n",
    "* [3,3] ; t = 3\n",
    "* [3,0] ; t = 3\n",
    "* [4,3] ; t = 4\n",
    "<br><br>\n",
    "\n",
    "The above nodes will the optimal time for early exercise. <br>\n",
    "The rest of the paths will only be exercised at expiry."
   ]
  },
  {
   "cell_type": "markdown",
   "id": "south-gauge",
   "metadata": {},
   "source": [
    "### General case: Early exercise of <font color=orange> American Put option </font>"
   ]
  },
  {
   "cell_type": "markdown",
   "id": "cross-scheme",
   "metadata": {},
   "source": [
    "In the case of a Put, we will have optimal early exercise situations even if the risk-free rate r is set to any value greater than 0. <br>\n",
    "* This is different from the case of a Call option where any r ≠ 0 meant that there was no optimal early exercise time for non-dividend paying Calls. <br>\n",
    "\n",
    "**Note: that the comparison here is between exercising the option vs selling the option in the open market, not between exercising the option and holding it to expiry!**"
   ]
  }
 ],
 "metadata": {
  "kernelspec": {
   "display_name": "Python 3",
   "language": "python",
   "name": "python3"
  },
  "language_info": {
   "codemirror_mode": {
    "name": "ipython",
    "version": 3
   },
   "file_extension": ".py",
   "mimetype": "text/x-python",
   "name": "python",
   "nbconvert_exporter": "python",
   "pygments_lexer": "ipython3",
   "version": "3.8.8"
  }
 },
 "nbformat": 4,
 "nbformat_minor": 5
}
