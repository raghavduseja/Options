{
 "cells": [
  {
   "cell_type": "markdown",
   "id": "sacred-artist",
   "metadata": {},
   "source": [
    "## <font color=darkblue> European Vanilla Option pricing using Binomial Tree</font>"
   ]
  },
  {
   "cell_type": "markdown",
   "id": "human-laundry",
   "metadata": {},
   "source": [
    "### Pricing a European Call option: \n",
    "* CMP = 95\n",
    "* K = 105\n",
    "* T = 1 year\n",
    "* r = 0\n",
    "\n",
    "We will use a three steps binomial tree"
   ]
  },
  {
   "cell_type": "code",
   "execution_count": 1,
   "id": "enabling-syndrome",
   "metadata": {},
   "outputs": [],
   "source": [
    "call, put, european, american = 100, 101, 102, 103"
   ]
  },
  {
   "cell_type": "code",
   "execution_count": 2,
   "id": "southern-amber",
   "metadata": {
    "scrolled": true
   },
   "outputs": [
    {
     "name": "stdout",
     "output_type": "stream",
     "text": [
      "Calculation Inputs\n",
      "             Price : 95.000\n",
      "            Strike : 105.000\n",
      "         Risk-free : 0.000\n",
      "         Div Yield : 0.000\n",
      "          TTE Days : 365.000\n",
      "\n"
     ]
    }
   ],
   "source": [
    "side = call  # Option side\n",
    "style = european  # Option style\n",
    "price = 95  #Current instrument price\n",
    "strike = 105  #Strike price\n",
    "riskfree = 0  \n",
    "divyield = 0\n",
    "tte = 365  # Time to expiration in days\n",
    "\n",
    "print('Calculation Inputs')\n",
    "print('%18s : %0.3f' % ('Price', price))\n",
    "print('%18s : %0.3f' % ('Strike', strike))\n",
    "print('%18s : %0.3f' % ('Risk-free', riskfree))\n",
    "print('%18s : %0.3f' % ('Div Yield', divyield))\n",
    "print('%18s : %0.3f' % ('TTE Days', tte))\n",
    "print()"
   ]
  },
  {
   "cell_type": "markdown",
   "id": "hollow-passenger",
   "metadata": {},
   "source": [
    "Setting the upper movement of the price <br>\n",
    "u = 1.30 <br>\n",
    "d = 1/u "
   ]
  },
  {
   "cell_type": "code",
   "execution_count": 3,
   "id": "legendary-equipment",
   "metadata": {},
   "outputs": [
    {
     "name": "stdout",
     "output_type": "stream",
     "text": [
      "       Node prob U : 0.43478261\n",
      "       Node prob D : 0.56521739\n",
      "       Node tdelta : 0.33333333\n",
      "   Node discount f : 0.00000000\n"
     ]
    }
   ],
   "source": [
    "n = 3  # Depth of binomial tree \n",
    "tdelta = tte / (n * 365)  # Time delta per one step (as fraction of year)\n",
    "u = 1.30  \n",
    "d = 1 / u  \n",
    "rf = 0  \n",
    "dy = 0  \n",
    "pu = (1 + rf - dy - d) / (u - d)  \n",
    "pd = 1 - pu  \n",
    "\n",
    "assert side in [call, put] and style in [american, european]\n",
    "print('%18s : %0.8f' % ('Node prob U', pu))\n",
    "print('%18s : %0.8f' % ('Node prob D', pd))\n",
    "print('%18s : %0.8f' % ('Node tdelta', tdelta))\n",
    "print('%18s : %0.8f' % ('Node discount f', rf))"
   ]
  },
  {
   "cell_type": "code",
   "execution_count": 4,
   "id": "aquatic-adams",
   "metadata": {
    "scrolled": false
   },
   "outputs": [
    {
     "name": "stdout",
     "output_type": "stream",
     "text": [
      "Binomial Tree\n",
      "\n",
      "Node [3,0] \t Price 208.715 \t Option Value 103.715\n",
      "Node [3,1] \t Price 123.500 \t Option Value 18.500\n",
      "Node [3,2] \t Price 73.077 \t Option Value  0.000\n",
      "Node [3,3] \t Price 43.241 \t Option Value  0.000\n",
      "\n",
      "Node [2,0] \t Price 160.550 \t Option Value 55.550\n",
      "Node [2,1] \t Price 95.000 \t Option Value  8.043\n",
      "Node [2,2] \t Price 56.213 \t Option Value  0.000\n",
      "\n",
      "Node [1,0] \t Price 123.500 \t Option Value 28.698\n",
      "Node [1,1] \t Price 73.077 \t Option Value  3.497\n",
      "\n",
      "Node [0,0] \t Price 95.000 \t Option Value 14.454\n"
     ]
    }
   ],
   "source": [
    "print('Binomial Tree')\n",
    "\n",
    "# Generate terminal nodes of binomial tree\n",
    "level = []\n",
    "print()\n",
    "for j in range(0, n + 1):\n",
    "    pr = price * d ** j * u ** (n - j)\n",
    "    # Option value at the node (depending on side)\n",
    "    ov = max(0.0, pr - strike) if side == call else max(0.0, strike - pr)\n",
    "    level.append((pr, ov))\n",
    "    print('Node [%i,%i] \\t Price %6.3f \\t Option Value %6.3f' % (n, j, pr, ov))\n",
    "\n",
    "levels = [None, None, None]\n",
    "\n",
    "# reduce binomial tree\n",
    "for i in range(n - 1, -1, -1):  # [n-1 to 0]\n",
    "    levelNext = []\n",
    "    print()\n",
    "    for j in range(0, i + 1):  \n",
    "        node_u, node_d = level[j], level[j + 1]\n",
    "        # Instrument's price at the node\n",
    "        pr = node_d[0] / d\n",
    "        # Option value at the node (depending on side)\n",
    "        ov = (node_d[1] * pd + node_u[1] * pu) / (1 + rf)\n",
    "        if style == american:  # for American options - not relevant for this assignment\n",
    "            ov = max(ov, pr - strike if side == call else strike - pr)\n",
    "        levelNext.append((pr, ov))\n",
    "        print('Node [%i,%i] \\t Price %6.3f \\t Option Value %6.3f' % (i, j, pr, ov))\n",
    "    level = levelNext\n",
    "    if j <= 2: levels[j] = level "
   ]
  },
  {
   "cell_type": "markdown",
   "id": "charming-unemployment",
   "metadata": {},
   "source": [
    "Value of the derivative at each node can be seen in the last column above"
   ]
  },
  {
   "cell_type": "markdown",
   "id": "diverse-modern",
   "metadata": {},
   "source": [
    "Value of the call option at time 0 = 14.454"
   ]
  },
  {
   "cell_type": "markdown",
   "id": "unknown-jamaica",
   "metadata": {},
   "source": [
    "### Price a European Put Option\n",
    "**Same parameters as the first part but now with N=2**"
   ]
  },
  {
   "cell_type": "code",
   "execution_count": 5,
   "id": "removed-looking",
   "metadata": {},
   "outputs": [
    {
     "name": "stdout",
     "output_type": "stream",
     "text": [
      "Calculation Inputs\n",
      "             Price : 95.000\n",
      "            Strike : 105.000\n",
      "         Risk-free : 0.000\n",
      "         Div Yield : 0.000\n",
      "          TTE Days : 365.000\n",
      "\n"
     ]
    }
   ],
   "source": [
    "side = put  # Option side\n",
    "style = european  # Option style\n",
    "price = 95  #Current instrument price\n",
    "strike = 105  #Strike price\n",
    "riskfree = 0  \n",
    "divyield = 0\n",
    "tte = 365  # Time to expiration in days\n",
    "\n",
    "print('Calculation Inputs')\n",
    "print('%18s : %0.3f' % ('Price', price))\n",
    "print('%18s : %0.3f' % ('Strike', strike))\n",
    "print('%18s : %0.3f' % ('Risk-free', riskfree))\n",
    "print('%18s : %0.3f' % ('Div Yield', divyield))\n",
    "print('%18s : %0.3f' % ('TTE Days', tte))\n",
    "print()"
   ]
  },
  {
   "cell_type": "code",
   "execution_count": 6,
   "id": "awful-printing",
   "metadata": {},
   "outputs": [
    {
     "name": "stdout",
     "output_type": "stream",
     "text": [
      "       Node prob U : 0.43478261\n",
      "       Node prob D : 0.56521739\n",
      "       Node tdelta : 0.50000000\n",
      "   Node discount f : 0.00000000\n"
     ]
    }
   ],
   "source": [
    "n = 2  # Depth of binomial tree (levels are numbered from 0 to n)\n",
    "tdelta = tte / (n * 365)  # Time delta per one step (as fraction of year)\n",
    "u = 1.30  # Up movement per step\n",
    "d = 1 / u  # Down movement per step\n",
    "rf = 0  # Risk-free rate per step\n",
    "dy = 0  # Dividend yield per step\n",
    "pu = (1 + rf - dy - d) / (u - d)  # Probability of up movement\n",
    "pd = 1 - pu  # Probability of down movement\n",
    "\n",
    "assert side in [call, put] and style in [american, european]\n",
    "print('%18s : %0.8f' % ('Node prob U', pu))\n",
    "print('%18s : %0.8f' % ('Node prob D', pd))\n",
    "print('%18s : %0.8f' % ('Node tdelta', tdelta))\n",
    "print('%18s : %0.8f' % ('Node discount f', rf))"
   ]
  },
  {
   "cell_type": "code",
   "execution_count": 7,
   "id": "chubby-geology",
   "metadata": {},
   "outputs": [
    {
     "name": "stdout",
     "output_type": "stream",
     "text": [
      "Binomial Tree\n",
      "\n",
      "Node [2,0] \t Price 160.550 \t Option Value  0.000\n",
      "Node [2,1] \t Price 95.000 \t Option Value 10.000\n",
      "Node [2,2] \t Price 56.213 \t Option Value 48.787\n",
      "\n",
      "Node [1,0] \t Price 123.500 \t Option Value  5.652\n",
      "Node [1,1] \t Price 73.077 \t Option Value 31.923\n",
      "\n",
      "Node [0,0] \t Price 95.000 \t Option Value 20.501\n"
     ]
    }
   ],
   "source": [
    "print('Binomial Tree')\n",
    "\n",
    "# Generate terminal nodes of binomial tree\n",
    "level = []\n",
    "print()\n",
    "for j in range(0, n + 1):\n",
    "    pr = price * d ** j * u ** (n - j)\n",
    "    # Option value at the node (depending on side)\n",
    "    ov = max(0.0, pr - strike) if side == call else max(0.0, strike - pr)\n",
    "    level.append((pr, ov))\n",
    "    print('Node [%i,%i] \\t Price %6.3f \\t Option Value %6.3f' % (n, j, pr, ov))\n",
    "\n",
    "levels = [None, None, None]\n",
    "\n",
    "# reduce binomial tree\n",
    "for i in range(n - 1, -1, -1):  # [n-1 to 0]\n",
    "    levelNext = []\n",
    "    print()\n",
    "    for j in range(0, i + 1):  \n",
    "        node_u, node_d = level[j], level[j + 1]\n",
    "        # Instrument's price at the node\n",
    "        pr = node_d[0] / d\n",
    "        # Option value at the node (depending on side)\n",
    "        ov = (node_d[1] * pd + node_u[1] * pu) / (1 + rf)\n",
    "        if style == american:  # for American options - not relevant for this assignment\n",
    "            ov = max(ov, pr - strike if side == call else strike - pr)\n",
    "        levelNext.append((pr, ov))\n",
    "        print('Node [%i,%i] \\t Price %6.3f \\t Option Value %6.3f' % (i, j, pr, ov))\n",
    "    level = levelNext\n",
    "    if j <= 2: levels[j] = level "
   ]
  },
  {
   "cell_type": "markdown",
   "id": "competitive-yield",
   "metadata": {},
   "source": [
    "The price of the put option at time = 0 is 20.50"
   ]
  },
  {
   "cell_type": "markdown",
   "id": "nutritional-shoulder",
   "metadata": {},
   "source": [
    "### Replicating Portfolio\n",
    "**Constructing a Table that includes, for each price path and each t when it corresponds, the information on stock price evolution** \n",
    "* 𝑋𝑡(𝜔)\n",
    "* Value of the option\n",
    "* 𝑉𝑡𝐻(𝜔)\n",
    "* Payoff of the option\n",
    "* 𝐻(𝜔)\n",
    "* Hedging strategy, 𝜑𝑡𝐻"
   ]
  },
  {
   "cell_type": "code",
   "execution_count": 8,
   "id": "tired-rugby",
   "metadata": {},
   "outputs": [],
   "source": [
    "import pandas as pd "
   ]
  },
  {
   "cell_type": "code",
   "execution_count": 10,
   "id": "civilian-mustang",
   "metadata": {},
   "outputs": [
    {
     "data": {
      "text/html": [
       "<div>\n",
       "<style scoped>\n",
       "    .dataframe tbody tr th:only-of-type {\n",
       "        vertical-align: middle;\n",
       "    }\n",
       "\n",
       "    .dataframe tbody tr th {\n",
       "        vertical-align: top;\n",
       "    }\n",
       "\n",
       "    .dataframe thead th {\n",
       "        text-align: right;\n",
       "    }\n",
       "</style>\n",
       "<table border=\"1\" class=\"dataframe\">\n",
       "  <thead>\n",
       "    <tr style=\"text-align: right;\">\n",
       "      <th></th>\n",
       "      <th>X$_{0}$ (𝜔)</th>\n",
       "      <th>X$_{1}$ (𝜔)</th>\n",
       "      <th>X$_{2}$ (𝜔)</th>\n",
       "      <th>H(w)</th>\n",
       "      <th></th>\n",
       "      <th>V$_{0}$$^{H}$ (𝜔)</th>\n",
       "      <th>V$_{1}$$^{H}$ (𝜔)</th>\n",
       "      <th>V$_{2}$$^{H}$ (𝜔)</th>\n",
       "    </tr>\n",
       "    <tr>\n",
       "      <th>w</th>\n",
       "      <th></th>\n",
       "      <th></th>\n",
       "      <th></th>\n",
       "      <th></th>\n",
       "      <th></th>\n",
       "      <th></th>\n",
       "      <th></th>\n",
       "      <th></th>\n",
       "    </tr>\n",
       "  </thead>\n",
       "  <tbody>\n",
       "    <tr>\n",
       "      <th>u,u</th>\n",
       "      <td>95</td>\n",
       "      <td>123.50</td>\n",
       "      <td>160.55</td>\n",
       "      <td>0.00</td>\n",
       "      <td>NaN</td>\n",
       "      <td>20.5</td>\n",
       "      <td>31.92</td>\n",
       "      <td>0.00</td>\n",
       "    </tr>\n",
       "    <tr>\n",
       "      <th>u, d</th>\n",
       "      <td>95</td>\n",
       "      <td>123.50</td>\n",
       "      <td>95.00</td>\n",
       "      <td>10.00</td>\n",
       "      <td>NaN</td>\n",
       "      <td>20.5</td>\n",
       "      <td>31.92</td>\n",
       "      <td>10.00</td>\n",
       "    </tr>\n",
       "    <tr>\n",
       "      <th>d, u</th>\n",
       "      <td>95</td>\n",
       "      <td>73.07</td>\n",
       "      <td>95.00</td>\n",
       "      <td>10.00</td>\n",
       "      <td>NaN</td>\n",
       "      <td>20.5</td>\n",
       "      <td>5.65</td>\n",
       "      <td>10.00</td>\n",
       "    </tr>\n",
       "    <tr>\n",
       "      <th>d, d</th>\n",
       "      <td>95</td>\n",
       "      <td>73.07</td>\n",
       "      <td>56.21</td>\n",
       "      <td>48.78</td>\n",
       "      <td>NaN</td>\n",
       "      <td>20.5</td>\n",
       "      <td>5.65</td>\n",
       "      <td>48.79</td>\n",
       "    </tr>\n",
       "  </tbody>\n",
       "</table>\n",
       "</div>"
      ],
      "text/plain": [
       "       X$_{0}$ (𝜔)  X$_{1}$ (𝜔)  X$_{2}$ (𝜔)   H(w)      V$_{0}$$^{H}$ (𝜔)  \\\n",
       "w                                                                            \n",
       "u,u             95       123.50       160.55   0.00 NaN               20.5   \n",
       "u, d            95       123.50        95.00  10.00 NaN               20.5   \n",
       "d, u            95        73.07        95.00  10.00 NaN               20.5   \n",
       "d, d            95        73.07        56.21  48.78 NaN               20.5   \n",
       "\n",
       "       V$_{1}$$^{H}$ (𝜔)  V$_{2}$$^{H}$ (𝜔)  \n",
       "w                                            \n",
       "u,u                31.92               0.00  \n",
       "u, d               31.92              10.00  \n",
       "d, u                5.65              10.00  \n",
       "d, d                5.65              48.79  "
      ]
     },
     "execution_count": 10,
     "metadata": {},
     "output_type": "execute_result"
    }
   ],
   "source": [
    "df = pd.read_excel(r'Replicating1.xlsx')\n",
    "df = df.set_index('w')\n",
    "df=df.rename(columns = {'Unnamed: 5':' '})\n",
    "df = df.rename(columns = {'X0(w)':'X$_{0}$ (𝜔)'})\n",
    "df = df.rename(columns = {'X1(w)':'X$_{1}$ (𝜔)'})\n",
    "df = df.rename(columns = {'X2(w)':'X$_{2}$ (𝜔)'})\n",
    "\n",
    "df = df.rename(columns = {'V-0H (w)':'V$_{0}$$^{H}$ (𝜔)'})\n",
    "df = df.rename(columns = {'V-1H (w)':'V$_{1}$$^{H}$ (𝜔)'})\n",
    "df = df.rename(columns = {'V-2H (w)':'V$_{2}$$^{H}$ (𝜔)'})\n",
    "\n",
    "df"
   ]
  },
  {
   "cell_type": "markdown",
   "id": "embedded-sixth",
   "metadata": {},
   "source": [
    "Now calculating the replicating strategy "
   ]
  },
  {
   "cell_type": "code",
   "execution_count": 11,
   "id": "ambient-armor",
   "metadata": {},
   "outputs": [
    {
     "data": {
      "text/html": [
       "<div>\n",
       "<style scoped>\n",
       "    .dataframe tbody tr th:only-of-type {\n",
       "        vertical-align: middle;\n",
       "    }\n",
       "\n",
       "    .dataframe tbody tr th {\n",
       "        vertical-align: top;\n",
       "    }\n",
       "\n",
       "    .dataframe thead th {\n",
       "        text-align: right;\n",
       "    }\n",
       "</style>\n",
       "<table border=\"1\" class=\"dataframe\">\n",
       "  <thead>\n",
       "    <tr style=\"text-align: right;\">\n",
       "      <th></th>\n",
       "      <th>𝜑$^{1}$$_{H}$ (𝜔)</th>\n",
       "      <th>𝜑$^{2}$$_{H}$ (𝜔)</th>\n",
       "    </tr>\n",
       "    <tr>\n",
       "      <th>w</th>\n",
       "      <th></th>\n",
       "      <th></th>\n",
       "    </tr>\n",
       "  </thead>\n",
       "  <tbody>\n",
       "    <tr>\n",
       "      <th>u,u</th>\n",
       "      <td>0.400702</td>\n",
       "      <td>-0.861538</td>\n",
       "    </tr>\n",
       "    <tr>\n",
       "      <th>u, d</th>\n",
       "      <td>0.400702</td>\n",
       "      <td>0.769123</td>\n",
       "    </tr>\n",
       "    <tr>\n",
       "      <th>d, u</th>\n",
       "      <td>0.677155</td>\n",
       "      <td>0.198358</td>\n",
       "    </tr>\n",
       "    <tr>\n",
       "      <th>d, d</th>\n",
       "      <td>0.677155</td>\n",
       "      <td>-2.558719</td>\n",
       "    </tr>\n",
       "  </tbody>\n",
       "</table>\n",
       "</div>"
      ],
      "text/plain": [
       "       𝜑$^{1}$$_{H}$ (𝜔)  𝜑$^{2}$$_{H}$ (𝜔)\n",
       "w                                          \n",
       "u,u             0.400702          -0.861538\n",
       "u, d            0.400702           0.769123\n",
       "d, u            0.677155           0.198358\n",
       "d, d            0.677155          -2.558719"
      ]
     },
     "execution_count": 11,
     "metadata": {},
     "output_type": "execute_result"
    }
   ],
   "source": [
    "df1 = pd.read_excel(r'Replicating2.xlsx')\n",
    "df1 = df1.set_index('w')\n",
    "df1 = df1.rename(columns = {'k - 1H (w)':'𝜑$^{1}$$_{H}$ (𝜔)'})\n",
    "df1 = df1.rename(columns = {'k - 2H (w)':'𝜑$^{2}$$_{H}$ (𝜔)'})\n",
    "df1 "
   ]
  }
 ],
 "metadata": {
  "kernelspec": {
   "display_name": "Python 3",
   "language": "python",
   "name": "python3"
  },
  "language_info": {
   "codemirror_mode": {
    "name": "ipython",
    "version": 3
   },
   "file_extension": ".py",
   "mimetype": "text/x-python",
   "name": "python",
   "nbconvert_exporter": "python",
   "pygments_lexer": "ipython3",
   "version": "3.8.8"
  }
 },
 "nbformat": 4,
 "nbformat_minor": 5
}
